{
  "nbformat": 4,
  "nbformat_minor": 0,
  "metadata": {
    "colab": {
      "private_outputs": true,
      "provenance": [],
      "gpuType": "T4",
      "authorship_tag": "ABX9TyNwb+mKflGBYA0ziKS83Pfv",
      "include_colab_link": true
    },
    "kernelspec": {
      "name": "python3",
      "display_name": "Python 3"
    },
    "language_info": {
      "name": "python"
    },
    "accelerator": "GPU"
  },
  "cells": [
    {
      "cell_type": "markdown",
      "metadata": {
        "id": "view-in-github",
        "colab_type": "text"
      },
      "source": [
        "<a href=\"https://colab.research.google.com/github/kckohkoh2/fantastic-disco/blob/master/day0428.ipynb\" target=\"_parent\"><img src=\"https://colab.research.google.com/assets/colab-badge.svg\" alt=\"Open In Colab\"/></a>"
      ]
    },
    {
      "cell_type": "code",
      "execution_count": null,
      "metadata": {
        "id": "3a9GE_eUbS9Q"
      },
      "outputs": [],
      "source": [
        "# 정렬할 숫자 리스트\n",
        "numbers = [1, 8, 34, 98, 72, 65, 88, 22, 55, 73]\n",
        "\n",
        "# 파이썬 내장 sorted() 사용 (Timsort 알고리즘 기반)\n",
        "sorted_numbers = sorted(numbers)\n",
        "\n",
        "# 결과 출력\n",
        "print(sorted_numbers)"
      ]
    },
    {
      "cell_type": "code",
      "source": [
        "sorted_numbers = sorted(numbers, reverse=True)\n",
        "print(sorted_numbers)"
      ],
      "metadata": {
        "id": "LSDVoVzTcF0F"
      },
      "execution_count": null,
      "outputs": []
    },
    {
      "cell_type": "code",
      "source": [
        "# 숫자 리스트\n",
        "numbers = [1, 8, 34, 98, 72, 65, 88, 22, 55, 73]\n",
        "\n",
        "# 1. 평균 구하기\n",
        "average = sum(numbers) / len(numbers)\n",
        "\n",
        "# 2. 평균과의 거리를 기준으로 정렬\n",
        "sorted_by_average = sorted(numbers, key=lambda x: abs(x - average))\n",
        "\n",
        "# 3. 결과 출력\n",
        "print(f\"평균값: {average}\")\n",
        "print(\"평균에 가까운 순서대로:\", sorted_by_average)"
      ],
      "metadata": {
        "id": "YKsezWpThhUq"
      },
      "execution_count": null,
      "outputs": []
    },
    {
      "cell_type": "code",
      "source": [
        "# 숫자 리스트\n",
        "numbers = [1, 8, 34, 98, 72, 65, 88, 22, 55, 73]\n",
        "\n",
        "# 1. 평균 구하기\n",
        "average = sum(numbers) / len(numbers)\n",
        "\n",
        "# 2. 평균과의 거리를 함께 저장\n",
        "numbers_with_distance = [(num, abs(num - average)) for num in numbers]\n",
        "\n",
        "# 3. 평균과의 거리 기준으로 정렬\n",
        "sorted_by_distance = sorted(numbers_with_distance, key=lambda x: x[1])\n",
        "\n",
        "# 4. 출력\n",
        "print(f\"평균값: {average:.2f}\")\n",
        "print(\"숫자 : 평균과의 거리\")\n",
        "for num, dist in sorted_by_distance:\n",
        "    print(f\"{num} : {dist:.2f}\")"
      ],
      "metadata": {
        "id": "NMw8FUtedXMh"
      },
      "execution_count": null,
      "outputs": []
    },
    {
      "cell_type": "code",
      "source": [
        "import matplotlib.pyplot as plt\n",
        "\n",
        "# 숫자 리스트\n",
        "numbers = [1, 8, 34, 98, 72, 65, 88, 22, 55, 73]\n",
        "\n",
        "# 1. 평균 구하기\n",
        "average = sum(numbers) / len(numbers)\n",
        "\n",
        "# 2. 평균과의 거리 계산\n",
        "distances = [abs(num - average) for num in numbers]\n",
        "\n",
        "# 3. 그래프 그리기\n",
        "plt.figure(figsize=(8, 5))\n",
        "plt.plot(numbers, distances, marker='o', linestyle='-', linewidth=2)\n",
        "\n",
        "# 그래프 제목과 라벨\n",
        "plt.title('Distance from Average for Each Number')\n",
        "plt.xlabel('Number')\n",
        "plt.ylabel('Distance from Average')\n",
        "\n",
        "# 그리드 추가\n",
        "plt.grid(True)\n",
        "\n",
        "# 그래프 출력\n",
        "plt.show()"
      ],
      "metadata": {
        "id": "9zPA2QmieBmD"
      },
      "execution_count": null,
      "outputs": []
    },
    {
      "cell_type": "code",
      "source": [
        "import matplotlib.pyplot as plt\n",
        "\n",
        "# 숫자 리스트\n",
        "numbers = [1, 8, 34, 98, 72, 65, 88, 22, 55, 73]\n",
        "\n",
        "# 1. 평균 구하기\n",
        "average = sum(numbers) / len(numbers)\n",
        "\n",
        "# 2. 평균과의 거리 계산\n",
        "distances = [abs(num - average) for num in numbers]\n",
        "\n",
        "# 3. 막대그래프 그리기\n",
        "plt.figure(figsize=(8, 5))\n",
        "plt.bar(numbers, distances)\n",
        "\n",
        "# 그래프 제목과 라벨\n",
        "plt.title('Distance from Average for Each Number (Bar Chart)')\n",
        "plt.xlabel('Number')\n",
        "plt.ylabel('Distance from Average')\n",
        "\n",
        "# 그리드 추가\n",
        "plt.grid(axis='y')\n",
        "\n",
        "# 그래프 출력\n",
        "plt.show()"
      ],
      "metadata": {
        "id": "vFKC3npLeaAS"
      },
      "execution_count": null,
      "outputs": []
    },
    {
      "cell_type": "code",
      "source": [
        "import matplotlib.pyplot as plt\n",
        "\n",
        "# 숫자 리스트\n",
        "numbers = [1, 8, 34, 98, 72, 65, 88, 22, 55, 73]\n",
        "\n",
        "# 1. 평균 구하기\n",
        "average = sum(numbers) / len(numbers)\n",
        "\n",
        "# 2. 평균과의 거리 계산\n",
        "distances = [abs(num - average) for num in numbers]\n",
        "\n",
        "# 3. 막대그래프 그리기\n",
        "plt.figure(figsize=(8, 5))\n",
        "plt.bar(numbers, distances, color='skyblue')\n",
        "\n",
        "# 4. 막대 위 꼭짓점들을 붉은 선으로 연결\n",
        "plt.plot(numbers, distances, color='red', marker='o', linestyle='-', linewidth=2)\n",
        "\n",
        "# 그래프 제목과 라벨\n",
        "plt.title('Distance from Average for Each Number (Bar Chart + V Line)')\n",
        "plt.xlabel('Number')\n",
        "plt.ylabel('Distance from Average')\n",
        "\n",
        "# 그리드 추가\n",
        "plt.grid(axis='y')\n",
        "\n",
        "# 그래프 출력\n",
        "plt.show()"
      ],
      "metadata": {
        "id": "Mf6Nnd8Te7kI"
      },
      "execution_count": null,
      "outputs": []
    },
    {
      "cell_type": "code",
      "source": [
        "import matplotlib.pyplot as plt\n",
        "\n",
        "# 숫자 리스트\n",
        "numbers = [1, 8, 34, 98, 72, 65, 88, 22, 55, 73]\n",
        "\n",
        "# 1. 평균 구하기\n",
        "average = sum(numbers) / len(numbers)\n",
        "\n",
        "# 2. 평균과의 거리 계산\n",
        "distances = [abs(num - average) for num in numbers]\n",
        "\n",
        "# 3. x축 숫자 오름차순 정렬에 맞춰 데이터 재정렬\n",
        "sorted_data = sorted(zip(numbers, distances))\n",
        "sorted_numbers, sorted_distances = zip(*sorted_data)\n",
        "\n",
        "# 4. 그래프 그리기\n",
        "plt.figure(figsize=(8, 5))\n",
        "\n",
        "# 4-1. 막대그래프는 원래 numbers 순서로\n",
        "plt.bar(numbers, distances, color='skyblue')\n",
        "\n",
        "# 4-2. 붉은 선은 정렬된 순서로 연결\n",
        "plt.plot(sorted_numbers, sorted_distances, color='red', marker='o', linestyle='-', linewidth=2)\n",
        "\n",
        "# 그래프 제목과 라벨\n",
        "plt.title('Distance from Average for Each Number (Sorted Red Line)')\n",
        "plt.xlabel('Number')\n",
        "plt.ylabel('Distance from Average')\n",
        "\n",
        "# 그리드 추가\n",
        "plt.grid(axis='y')\n",
        "\n",
        "# 그래프 출력\n",
        "plt.show()"
      ],
      "metadata": {
        "id": "p56l0K9MfU-9"
      },
      "execution_count": null,
      "outputs": []
    },
    {
      "cell_type": "code",
      "source": [
        "import matplotlib.pyplot as plt\n",
        "\n",
        "# 숫자 리스트\n",
        "numbers = [1, 8, 34, 98, 72, 65, 88, 22, 55, 73]\n",
        "\n",
        "# 1. 평균 구하기\n",
        "average = sum(numbers) / len(numbers)\n",
        "\n",
        "# 2. 평균과의 거리 계산\n",
        "distances = [abs(num - average) for num in numbers]\n",
        "\n",
        "# 3. 평균값과 거리 0을 추가\n",
        "numbers_with_avg = numbers + [average]\n",
        "distances_with_avg = distances + [0]\n",
        "\n",
        "# 4. x축 숫자 오름차순 정렬에 맞춰 데이터 재정렬\n",
        "sorted_data = sorted(zip(numbers_with_avg, distances_with_avg))\n",
        "sorted_numbers, sorted_distances = zip(*sorted_data)\n",
        "\n",
        "# 5. 그래프 그리기\n",
        "plt.figure(figsize=(8, 5))\n",
        "\n",
        "# 5-1. 막대그래프는 원래 numbers 순서로\n",
        "plt.bar(numbers, distances, color='skyblue')\n",
        "\n",
        "# 5-2. 붉은 선은 평균 포함해서 정렬된 순서로 연결\n",
        "plt.plot(sorted_numbers, sorted_distances, color='red', marker='o', linestyle='-', linewidth=2)\n",
        "\n",
        "# 그래프 제목과 라벨\n",
        "plt.title('Distance from Average (with Average Point)')\n",
        "plt.xlabel('Number')\n",
        "plt.ylabel('Distance from Average')\n",
        "\n",
        "# 그리드 추가\n",
        "plt.grid(axis='y')\n",
        "\n",
        "# 그래프 출력\n",
        "plt.show()"
      ],
      "metadata": {
        "id": "wPKdvBYYf4LN"
      },
      "execution_count": null,
      "outputs": []
    }
  ]
}
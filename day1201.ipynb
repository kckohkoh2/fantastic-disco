{
  "nbformat": 4,
  "nbformat_minor": 0,
  "metadata": {
    "colab": {
      "private_outputs": true,
      "provenance": [],
      "authorship_tag": "ABX9TyNLYjngcfLcvfLSKztPWT5C",
      "include_colab_link": true
    },
    "kernelspec": {
      "name": "python3",
      "display_name": "Python 3"
    },
    "language_info": {
      "name": "python"
    }
  },
  "cells": [
    {
      "cell_type": "markdown",
      "metadata": {
        "id": "view-in-github",
        "colab_type": "text"
      },
      "source": [
        "<a href=\"https://colab.research.google.com/github/kckohkoh2/fantastic-disco/blob/master/day1201.ipynb\" target=\"_parent\"><img src=\"https://colab.research.google.com/assets/colab-badge.svg\" alt=\"Open In Colab\"/></a>"
      ]
    },
    {
      "cell_type": "code",
      "execution_count": null,
      "metadata": {
        "id": "5xq3uDpZtGjd"
      },
      "outputs": [],
      "source": [
        "import torch\n",
        "import torch.nn.init as init\n",
        "num_data=1000\n",
        "num_epoch=10000\n",
        "noise=init.normal_(torch.FloatTensor(num_data,1),std=10)\n",
        "x=init.uniform_(torch.Tensor(num_data,1),-15,15)\n",
        "y=(x**2)+3\n",
        "y_noise=y+noise"
      ]
    },
    {
      "cell_type": "code",
      "source": [
        "import matplotlib.pyplot as plt\n",
        "plt.scatter(x,y_noise,label='target',s=2)\n",
        "plt.axis([-15,15,-50,15**2+3])\n",
        "plt.grid(True,linestyle='--')\n",
        "plt.legend(loc='best')\n",
        "plt.show()"
      ],
      "metadata": {
        "id": "Dk740ULxulc5"
      },
      "execution_count": null,
      "outputs": []
    },
    {
      "cell_type": "code",
      "source": [
        "import torch.nn as nn\n",
        "model=nn.Sequential(\n",
        "    nn.Linear(1,6),\n",
        "    nn.ReLU(),\n",
        "    nn.Linear(6,10),\n",
        "    nn.ReLU(),\n",
        "    nn.Linear(10,6),\n",
        "    nn.ReLU(),\n",
        "    nn.Linear(6,1))"
      ],
      "metadata": {
        "id": "dYenA9EW80Ac"
      },
      "execution_count": null,
      "outputs": []
    },
    {
      "cell_type": "code",
      "source": [
        "import torch.optim as optim\n",
        "loss_func=nn.L1Loss()\n",
        "optimizer=optim.SGD(model.parameters(),lr=0.0005) #stochastic gradient descent"
      ],
      "metadata": {
        "id": "xsWFWdJ3_kpY"
      },
      "execution_count": null,
      "outputs": []
    },
    {
      "cell_type": "code",
      "source": [
        "loss_func=nn.L1Loss()\n",
        "optimizer=optim.SGD(model.parameters(),lr=0.0005) #stochastic gradient descent"
      ],
      "metadata": {
        "id": "q3n_BCgvC1df"
      },
      "execution_count": null,
      "outputs": []
    },
    {
      "cell_type": "code",
      "source": [
        "from torch.autograd import Variable\n",
        "loss_arr=[]\n",
        "loss_val1=[]\n",
        "label=Variable(y_noise)\n",
        "for i in range(num_epoch):\n",
        "    optimizer.zero_grad() #graient 초기화\n",
        "    output=model(Variable(x))\n",
        "    loss=loss_func(output,label)\n",
        "    loss.backward()\n",
        "    optimizer.step() #weight update\n",
        "    if i%100==0:\n",
        "        print(i,loss.data)\n",
        "        loss_val1.append(loss.data.tolist())\n",
        "model_out=output.tolist()"
      ],
      "metadata": {
        "id": "InYbT8mbEz6O"
      },
      "execution_count": null,
      "outputs": []
    },
    {
      "cell_type": "code",
      "source": [
        "import matplotlib.pyplot as plt\n",
        "plt.scatter(x,y_noise,label='target',s=2)\n",
        "plt.scatter(x,model_out,label='estimated',s=2)\n",
        "plt.axis([-15,15,-50,15**2+3])\n",
        "plt.grid(True,linestyle='--')\n",
        "plt.legend(loc='best')\n",
        "plt.show()"
      ],
      "metadata": {
        "id": "t3qIwyvvTOEz"
      },
      "execution_count": null,
      "outputs": []
    },
    {
      "cell_type": "code",
      "source": [
        "import matplotlib.pyplot as plt\n",
        "t=[k for k in range(len(loss_val1))]\n",
        "plt.plot(t,loss_val1)\n",
        "plt.axis([0,100,0,100])\n",
        "plt.grid(True,linestyle='--')\n",
        "plt.show()"
      ],
      "metadata": {
        "id": "0N_l5xiQVPgL"
      },
      "execution_count": null,
      "outputs": []
    },
    {
      "cell_type": "code",
      "source": [
        "model=nn.Sequential(\n",
        "    nn.Linear(1,6),\n",
        "    nn.ReLU(),\n",
        "    nn.Linear(6,10),\n",
        "    nn.ReLU(),\n",
        "    nn.Linear(10,1))\n",
        "loss_func=nn.L1Loss()\n",
        "optimizer=optim.SGD(model.parameters(),lr=0.0005) #stochastic gradient descent\n",
        "loss_arr=[]\n",
        "loss_val2=[]\n",
        "label=Variable(y_noise)\n",
        "for i in range(num_epoch):\n",
        "    optimizer.zero_grad() #graient 초기화\n",
        "    output=model(Variable(x))\n",
        "    loss=loss_func(output,label)\n",
        "    loss.backward()\n",
        "    optimizer.step() #weight update\n",
        "    if i%100==0:\n",
        "        print(i,loss.data)\n",
        "        loss_val2.append(loss.data.tolist())"
      ],
      "metadata": {
        "id": "osbm30OBY1Fn"
      },
      "execution_count": null,
      "outputs": []
    },
    {
      "cell_type": "code",
      "source": [
        "model=nn.Sequential(\n",
        "    nn.Linear(1,16),\n",
        "    nn.ReLU(),\n",
        "    nn.Linear(16,1))\n",
        "loss_func=nn.L1Loss()\n",
        "optimizer=optim.SGD(model.parameters(),lr=0.0005) #stochastic gradient descent\n",
        "loss_val3=[]\n",
        "label=Variable(y_noise)\n",
        "for i in range(num_epoch):\n",
        "    optimizer.zero_grad() #graient 초기화\n",
        "    output=model(Variable(x))\n",
        "    loss=loss_func(output,label)\n",
        "    loss.backward()\n",
        "    optimizer.step() #weight update\n",
        "    if i%100==0:\n",
        "        print(i,loss.data)\n",
        "        loss_val3.append(loss.data.tolist())"
      ],
      "metadata": {
        "id": "s1au34pBX2a_"
      },
      "execution_count": null,
      "outputs": []
    },
    {
      "cell_type": "code",
      "source": [
        "import matplotlib.pyplot as plt\n",
        "t=[k for k in range(len(loss_val1))]\n",
        "plt.plot(t,loss_val1,label='2 hiddens(6,10,6)')\n",
        "plt.plot(t,loss_val2,label='1 hidden(6,10)')\n",
        "plt.plot(t,loss_val3,label='no hidden(16)')\n",
        "plt.axis([0,100,0,100])\n",
        "plt.grid(True,linestyle='--')\n",
        "plt.legend(loc='best')\n",
        "plt.show()"
      ],
      "metadata": {
        "id": "usuBhLZvYdM1"
      },
      "execution_count": null,
      "outputs": []
    }
  ]
}
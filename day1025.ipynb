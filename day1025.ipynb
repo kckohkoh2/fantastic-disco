{
  "nbformat": 4,
  "nbformat_minor": 0,
  "metadata": {
    "colab": {
      "provenance": [],
      "authorship_tag": "ABX9TyPo8OguLGd62VvQ2dtjKFV4",
      "include_colab_link": true
    },
    "kernelspec": {
      "name": "python3",
      "display_name": "Python 3"
    },
    "language_info": {
      "name": "python"
    }
  },
  "cells": [
    {
      "cell_type": "markdown",
      "metadata": {
        "id": "view-in-github",
        "colab_type": "text"
      },
      "source": [
        "<a href=\"https://colab.research.google.com/github/kckohkoh2/fantastic-disco/blob/master/day1025.ipynb\" target=\"_parent\"><img src=\"https://colab.research.google.com/assets/colab-badge.svg\" alt=\"Open In Colab\"/></a>"
      ]
    },
    {
      "cell_type": "markdown",
      "source": [
        "Matrix Broadcasting"
      ],
      "metadata": {
        "id": "g6IuhCidng1y"
      }
    },
    {
      "cell_type": "code",
      "execution_count": 1,
      "metadata": {
        "colab": {
          "base_uri": "https://localhost:8080/"
        },
        "id": "KGM9ZONElb-z",
        "outputId": "2e1e7ffd-22a8-4c4a-caba-df219301cd77"
      },
      "outputs": [
        {
          "output_type": "stream",
          "name": "stdout",
          "text": [
            "tensor([4, 5, 7], dtype=torch.int32)\n",
            "tensor([[ 2,  4,  7],\n",
            "        [ 5,  7, 10]], dtype=torch.int32)\n"
          ]
        }
      ],
      "source": [
        "import torch\n",
        "t0=torch.IntTensor([3]) #scalar\n",
        "t1=torch.IntTensor([1,2,4]) #1D tensor\n",
        "t2=torch.IntTensor([[1,2,3],[4,5,6]])\n",
        "m1=t0+t1 #t0 is broadcasted to t1\n",
        "m2=t1+t2 #t1 is broadcasted to t2\n",
        "print(m1)\n",
        "print(m2)\n",
        "# PyTorch로 시작하는 딥 러닝 입문(1) - 소개|작성자 Alpha Koh"
      ]
    },
    {
      "cell_type": "markdown",
      "source": [
        " 행렬곱(Matrix Multiplication)"
      ],
      "metadata": {
        "id": "ElTn1a7Bnne0"
      }
    },
    {
      "cell_type": "code",
      "source": [
        "import torch\n",
        "m1=torch.IntTensor([[1,2],[3,4]])\n",
        "m2=torch.IntTensor([[1],[2]])\n",
        "print(m1.shape)\n",
        "print(m2.shape)\n",
        "print(m1.matmul(m2))\n",
        "print(torch.mm(m1,m2))\n",
        "#PyTorch로 시작하는 딥 러닝 입문(1) - 소개|작성자 Alpha Koh"
      ],
      "metadata": {
        "colab": {
          "base_uri": "https://localhost:8080/"
        },
        "id": "ttOEhdS3nu6O",
        "outputId": "ac8854a7-da17-44c6-b00b-5f7f3b911141"
      },
      "execution_count": 2,
      "outputs": [
        {
          "output_type": "stream",
          "name": "stdout",
          "text": [
            "torch.Size([2, 2])\n",
            "torch.Size([2, 1])\n",
            "tensor([[ 5],\n",
            "        [11]], dtype=torch.int32)\n",
            "tensor([[ 5],\n",
            "        [11]], dtype=torch.int32)\n"
          ]
        }
      ]
    }
  ]
}
{
  "nbformat": 4,
  "nbformat_minor": 0,
  "metadata": {
    "colab": {
      "private_outputs": true,
      "provenance": [],
      "toc_visible": true,
      "authorship_tag": "ABX9TyOqtXhWyxrWeZv1vK+jgApo",
      "include_colab_link": true
    },
    "kernelspec": {
      "name": "python3",
      "display_name": "Python 3"
    },
    "language_info": {
      "name": "python"
    }
  },
  "cells": [
    {
      "cell_type": "markdown",
      "metadata": {
        "id": "view-in-github",
        "colab_type": "text"
      },
      "source": [
        "<a href=\"https://colab.research.google.com/github/kckohkoh2/fantastic-disco/blob/master/day230723.ipynb\" target=\"_parent\"><img src=\"https://colab.research.google.com/assets/colab-badge.svg\" alt=\"Open In Colab\"/></a>"
      ]
    },
    {
      "cell_type": "code",
      "execution_count": null,
      "metadata": {
        "id": "bmzodtSO5Ysp"
      },
      "outputs": [],
      "source": [
        "import torch\n",
        "from torch import optim"
      ]
    },
    {
      "cell_type": "code",
      "source": [
        "x_train=torch.FloatTensor([[1,2,3],[3,4,5],[6,7,8]])\n",
        "print(x_train)\n",
        "print(type(x_train))\n",
        "print(x_train.shape)\n",
        "print(x_train.dim())"
      ],
      "metadata": {
        "id": "OEOtj8Ti7Fzm"
      },
      "execution_count": null,
      "outputs": []
    },
    {
      "cell_type": "code",
      "source": [],
      "metadata": {
        "id": "eB2Ihx0NFa0Q"
      },
      "execution_count": null,
      "outputs": []
    },
    {
      "cell_type": "code",
      "source": [
        "y=torch.tensor([1,2,3,4,5,9])\n",
        "print(y)\n",
        "print(y.size())\n",
        "print(y.dim())\n",
        "print(y.shape)"
      ],
      "metadata": {
        "id": "BUoKlGRJ9eKT"
      },
      "execution_count": null,
      "outputs": []
    },
    {
      "cell_type": "code",
      "source": [
        "W=torch.tensor([3]) #scalar상수\n",
        "print(W)"
      ],
      "metadata": {
        "id": "PI4RFzdr95dX"
      },
      "execution_count": null,
      "outputs": []
    },
    {
      "cell_type": "code",
      "source": [
        "a=torch.tensor([3.141592]) #scalar 상수 []안붙인다\n",
        "print(a)\n",
        "print(a.size()) #메서드명 ()를 붙인다\n",
        "print(a.shape) #프로퍼티에는 안붙인다"
      ],
      "metadata": {
        "id": "bX6LHMOB_wrB"
      },
      "execution_count": null,
      "outputs": []
    },
    {
      "cell_type": "code",
      "source": [
        "b0=torch.tensor(1) #스칼라\n",
        "b1=torch.tensor([1]) #1차원텐서\n",
        "b2=torch.tensor([[1]]) #2차원 텐서\n",
        "b3=torch.tensor([[[1]]]) #3차원 텐서\n",
        "print(b0.dim(),b1.dim(),b2.dim(),b3.dim())"
      ],
      "metadata": {
        "id": "ZNBS9XQiS2HE"
      },
      "execution_count": null,
      "outputs": []
    },
    {
      "cell_type": "code",
      "source": [
        "class Calc: #a와 b라는 프로퍼티를 갖는 클래스\n",
        "    def __init__(self,a,b): #Calc의 생성자 메서드\n",
        "        self.a=a #self.a의 초기값을 a로 대입\n",
        "        self.b=b #self.b의 초기값을 b로 대입\n",
        "    def add(self):\n",
        "        return self.a+self.b\n",
        "    def inc(self):\n",
        "        self.a+=1 #self.a의 값을 1증가\n",
        "        self.b+=1 #self.b의 값을 1증가\n",
        "c1=Calc(3,4) #클래스 Calc 객체 c1를 생성, Calc는 인류, c1은 어떤 인간\n",
        "print(type(c1))\n",
        "print(c1.a,c1.b) #객체c1의 프로퍼티 c1에 저장된 프로퍼티를 출력\n",
        "print(c1.add()) #객체c1의 메서드 add()호출한 결과를 출력\n",
        "c1.inc()  #객체c1의 메서드inc()를 호출\n",
        "print(c1.a,c1.b) #객체c1의 프로퍼티 c1에 저장된 프로퍼티를 출력"
      ],
      "metadata": {
        "id": "xdM1JQ3KCgHJ"
      },
      "execution_count": null,
      "outputs": []
    }
  ]
}
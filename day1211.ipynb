{
  "nbformat": 4,
  "nbformat_minor": 0,
  "metadata": {
    "colab": {
      "private_outputs": true,
      "provenance": [],
      "authorship_tag": "ABX9TyPdhPIo/LQ1Vvv8YMtTuOSW",
      "include_colab_link": true
    },
    "kernelspec": {
      "name": "python3",
      "display_name": "Python 3"
    },
    "language_info": {
      "name": "python"
    }
  },
  "cells": [
    {
      "cell_type": "markdown",
      "metadata": {
        "id": "view-in-github",
        "colab_type": "text"
      },
      "source": [
        "<a href=\"https://colab.research.google.com/github/kckohkoh2/fantastic-disco/blob/master/day1211.ipynb\" target=\"_parent\"><img src=\"https://colab.research.google.com/assets/colab-badge.svg\" alt=\"Open In Colab\"/></a>"
      ]
    },
    {
      "cell_type": "code",
      "execution_count": null,
      "metadata": {
        "id": "KgJabULfO3TR"
      },
      "outputs": [],
      "source": [
        "def say_myself(name,age,gender):\n",
        "    print(f\"내이름은 {name}입니다.\")\n",
        "    print(f\"내나이는 {age}입니다.\")\n",
        "    if gender==1:\n",
        "        print(\"나는 남자입니다.\")\n",
        "    elif gender==2:\n",
        "        print(\"나는 여자입니다.\")\n",
        "say_myself(name='고경철,',age=63,gender=1)"
      ]
    },
    {
      "cell_type": "code",
      "source": [
        "def divisor(n):\n",
        "    div=[]\n",
        "    for i in range(1,n+1): \n",
        "        if(n%i==0):\n",
        "            div.append(i)\n",
        "    return div\n",
        "n=30\n",
        "div=divisor(n)\n",
        "for i in range(len(div)):\n",
        "    print(div[i])"
      ],
      "metadata": {
        "id": "lAXE6DRATdXR"
      },
      "execution_count": null,
      "outputs": []
    },
    {
      "cell_type": "code",
      "source": [
        "def list_odd_sum(b):\n",
        "    sum=0\n",
        "    for i in range(0,len(b)):\n",
        "        if(b[i]%2!=0):\n",
        "            sum=sum+b[i]\n",
        "    return sum\n",
        "b=[1,2,3,4,5]\n",
        "sum=list_odd_sum(b)\n",
        "print(sum)"
      ],
      "metadata": {
        "id": "4sE0zk1AMnIw"
      },
      "execution_count": null,
      "outputs": []
    },
    {
      "cell_type": "code",
      "source": [
        "def reverse_list(a):\n",
        "    b=[0 for i in range(len(a))]\n",
        "    for i in range(len(a)):\n",
        "        b[i]=a[len(a)-1-i]\n",
        "    return b"
      ],
      "metadata": {
        "id": "E8SrEPuaOq27"
      },
      "execution_count": null,
      "outputs": []
    },
    {
      "cell_type": "code",
      "source": [
        "name=\"beautiful\"\n",
        "reverse_name= reverse_list(name)\n",
        "for i in range(len(name)):\n",
        "    print(reverse_name[i],end='')\n",
        "print()"
      ],
      "metadata": {
        "id": "E1SS_YqBN4uB"
      },
      "execution_count": null,
      "outputs": []
    },
    {
      "cell_type": "code",
      "source": [
        "name=\"beautiful\"\n",
        "reverse_name= reverse_list(name)\n",
        "reverse_name=\"\".join(reverse_name)\n",
        "print(reverse_name)"
      ],
      "metadata": {
        "id": "T625t1eWPfHR"
      },
      "execution_count": null,
      "outputs": []
    },
    {
      "cell_type": "code",
      "source": [
        "from google.colab import files\n",
        "src = list(files.upload().values())[0]\n",
        "open('file1.py','wb').write(src)\n",
        "import file1"
      ],
      "metadata": {
        "id": "ex1GYbKCVgNg"
      },
      "execution_count": null,
      "outputs": []
    },
    {
      "cell_type": "code",
      "source": [
        "!ls\n"
      ],
      "metadata": {
        "id": "qv6FUokLWyBx"
      },
      "execution_count": null,
      "outputs": []
    },
    {
      "cell_type": "code",
      "source": [
        "import mylib\n",
        "name=\"beautiful\"\n",
        "reverse_name=mylib.reverse_list(name)\n",
        "for i in range(len(name)):\n",
        "    print(reverse_name[i],end='')\n",
        "print()"
      ],
      "metadata": {
        "id": "ijQFyXTrYkFI"
      },
      "execution_count": null,
      "outputs": []
    },
    {
      "cell_type": "code",
      "source": [
        "from mylib import *\n",
        "name=\"beautiful\"\n",
        "reverse_name=reverse_list(name)\n",
        "for i in range(len(name)):\n",
        "    print(reverse_name[i],end='')\n",
        "print()"
      ],
      "metadata": {
        "id": "sctLKCw3dvjH"
      },
      "execution_count": null,
      "outputs": []
    },
    {
      "cell_type": "markdown",
      "source": [],
      "metadata": {
        "id": "H9jRUnN4dtDZ"
      }
    }
  ]
}
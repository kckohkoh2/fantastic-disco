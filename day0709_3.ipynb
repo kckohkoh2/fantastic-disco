{
  "nbformat": 4,
  "nbformat_minor": 0,
  "metadata": {
    "colab": {
      "private_outputs": true,
      "provenance": [],
      "authorship_tag": "ABX9TyNkTS1i+Cv2EWcKF4xwiJSa",
      "include_colab_link": true
    },
    "kernelspec": {
      "name": "python3",
      "display_name": "Python 3"
    },
    "language_info": {
      "name": "python"
    }
  },
  "cells": [
    {
      "cell_type": "markdown",
      "metadata": {
        "id": "view-in-github",
        "colab_type": "text"
      },
      "source": [
        "<a href=\"https://colab.research.google.com/github/kckohkoh2/fantastic-disco/blob/master/day0709_3.ipynb\" target=\"_parent\"><img src=\"https://colab.research.google.com/assets/colab-badge.svg\" alt=\"Open In Colab\"/></a>"
      ]
    },
    {
      "cell_type": "code",
      "execution_count": null,
      "metadata": {
        "id": "TnLQeTnNLP3o"
      },
      "outputs": [],
      "source": [
        "!head /proc/cpuinfo"
      ]
    },
    {
      "cell_type": "code",
      "source": [
        "!head /proc/meminfo"
      ],
      "metadata": {
        "id": "LSPpm3ZXM39J"
      },
      "execution_count": null,
      "outputs": []
    },
    {
      "cell_type": "code",
      "source": [
        "!python --version"
      ],
      "metadata": {
        "id": "Z3vffk82NJqz"
      },
      "execution_count": null,
      "outputs": []
    },
    {
      "cell_type": "code",
      "source": [
        "import torch\n",
        "torch.__version__"
      ],
      "metadata": {
        "id": "ZFEfblL9Ng1u"
      },
      "execution_count": null,
      "outputs": []
    },
    {
      "cell_type": "code",
      "source": [
        "import torch\n",
        "a=torch.tensor([[1,2,3],[3,4,5],[7,8,9]])\n",
        "print(a)\n",
        "print(a.shape)"
      ],
      "metadata": {
        "id": "dU-NszAXO_Pk"
      },
      "execution_count": null,
      "outputs": []
    },
    {
      "cell_type": "code",
      "source": [
        "from numpy import *\n",
        "a=array([[1,2,3],[3,3,5],[7,8,9]])\n",
        "b=array([[1,1,1],[3,4,5],[7,8,9]])\n",
        "print(a+b)\n",
        "print(a.shape)"
      ],
      "metadata": {
        "id": "XlWdF1aJQF9E"
      },
      "execution_count": null,
      "outputs": []
    },
    {
      "cell_type": "code",
      "source": [
        "import numpy as np\n",
        "c=np.linalg.inv(a) #역행렬 계산 a의 역행렬을 계산하여 c에 저장\n",
        "print(c)\n",
        "print(np.matmul(a,c))"
      ],
      "metadata": {
        "id": "OXKAoIb0RaVw"
      },
      "execution_count": null,
      "outputs": []
    },
    {
      "cell_type": "code",
      "source": [
        "import numpy as np\n",
        "a = np.array([[1, 2], [2, 4]])  # 예시 행렬\n",
        "det_a = np.linalg.det(a)\n",
        "\n",
        "if abs(det_a) > 1e-12:  # 부동소수점 안정성을 위한 임계값\n",
        "    c = np.linalg.inv(a)\n",
        "    print(\"역행렬:\\n\", c)\n",
        "    print(\"a * a^-1:\\n\", np.matmul(a, c))\n",
        "else:\n",
        "    print(\"행렬식이 0에 가까워 역행렬을 구할 수 없습니다. (singular)\")"
      ],
      "metadata": {
        "id": "FoVEnbMjelDq"
      },
      "execution_count": null,
      "outputs": []
    }
  ]
}
{
  "nbformat": 4,
  "nbformat_minor": 0,
  "metadata": {
    "colab": {
      "private_outputs": true,
      "provenance": [],
      "authorship_tag": "ABX9TyPVpWx1LdLK7RMa7STzrtMK",
      "include_colab_link": true
    },
    "kernelspec": {
      "name": "python3",
      "display_name": "Python 3"
    },
    "language_info": {
      "name": "python"
    }
  },
  "cells": [
    {
      "cell_type": "markdown",
      "metadata": {
        "id": "view-in-github",
        "colab_type": "text"
      },
      "source": [
        "<a href=\"https://colab.research.google.com/github/kckohkoh2/fantastic-disco/blob/master/day0708.ipynb\" target=\"_parent\"><img src=\"https://colab.research.google.com/assets/colab-badge.svg\" alt=\"Open In Colab\"/></a>"
      ]
    },
    {
      "cell_type": "code",
      "source": [
        "# 2-DOF 로봇암 순기구학 시각화 (PyBullet 없이 matplotlib 사용)\n",
        "import numpy as np\n",
        "import matplotlib.pyplot as plt"
      ],
      "metadata": {
        "id": "JAtHoKzfYcuA"
      },
      "execution_count": null,
      "outputs": []
    },
    {
      "cell_type": "code",
      "source": [
        "# === [로봇 파라미터 설정] ===\n",
        "L1 = 1.0  # 첫 번째 링크 길이 (m)\n",
        "L2 = 0.8  # 두 번째 링크 길이 (m)\n",
        "\n",
        "# === [관절 각도 설정] ===\n",
        "# 아래 각도를 바꿔보세요 (도 단위)\n",
        "theta1_deg = 45\n",
        "theta2_deg = 30"
      ],
      "metadata": {
        "id": "Sz38ix-ZYgrX"
      },
      "execution_count": null,
      "outputs": []
    },
    {
      "cell_type": "code",
      "source": [
        "# 도 → 라디안 변환 rad=deg/180*3.141592\n",
        "theta1 = np.radians(theta1_deg)\n",
        "theta2 = np.radians(theta2_deg)"
      ],
      "metadata": {
        "id": "U1Kv2CcwYlvn"
      },
      "execution_count": null,
      "outputs": []
    },
    {
      "cell_type": "code",
      "source": [
        "# === [순기구학 계산] ===\n",
        "x1 = L1 * np.cos(theta1)\n",
        "y1 = L1 * np.sin(theta1)\n",
        "\n",
        "x2 = x1 + L2 * np.cos(theta1 + theta2)\n",
        "y2 = y1 + L2 * np.sin(theta1 + theta2)"
      ],
      "metadata": {
        "id": "fL_frhI6Y1Fj"
      },
      "execution_count": null,
      "outputs": []
    },
    {
      "cell_type": "code",
      "source": [
        "# === [엔드포인트 출력] ===\n",
        "print(f\"🎯 엔드 이펙터 위치: x = {x2:.3f}, y = {y2:.3f}\")"
      ],
      "metadata": {
        "id": "VvlxwLXMY5un"
      },
      "execution_count": null,
      "outputs": []
    },
    {
      "cell_type": "code",
      "source": [
        "# === [로봇 구조 시각화] ===\n",
        "plt.figure(figsize=(6,6))\n",
        "plt.plot([0, x1, x2], [0, y1, y2], 'o-', linewidth=4, markersize=10, label='Robot Arm')\n",
        "plt.plot(x2, y2, 'ro', label=f'End Effector ({x2:.2f}, {y2:.2f})')\n",
        "plt.grid(True)\n",
        "plt.axis('equal')\n",
        "plt.xlim(-2, 2)\n",
        "plt.ylim(-2, 2)\n",
        "plt.xlabel('X position (m)')\n",
        "plt.ylabel('Y position (m)')\n",
        "plt.title('2-DOF Robot Arm Forward Kinematics')\n",
        "plt.legend()\n",
        "plt.show()"
      ],
      "metadata": {
        "id": "H-qXvYutZC4M"
      },
      "execution_count": null,
      "outputs": []
    },
    {
      "cell_type": "code",
      "source": [
        "# === 목표 위치 설정 (원하는 좌표 입력) ===\n",
        "x_target = 1.0\n",
        "y_target = 1.0"
      ],
      "metadata": {
        "id": "n9_fGj31Z8Uz"
      },
      "execution_count": null,
      "outputs": []
    },
    {
      "cell_type": "code",
      "source": [
        "# === 역기구학 계산 ===\n",
        "r_squared = x_target**2 + y_target**2\n",
        "r = np.sqrt(r_squared)\n",
        "if r > (L1 + L2) or r < abs(L1 - L2):\n",
        "    print(\"❌ 해당 위치는 로봇 암의 작업 범위를 벗어났습니다.\")\n",
        "else:\n",
        "    # theta2 계산 (Cos Law)\n",
        "    cos_theta2 = (r_squared - L1**2 - L2**2) / (2 * L1 * L2)\n",
        "    theta2 = np.arccos(np.clip(cos_theta2, -1.0, 1.0))  # 라디안\n",
        "\n",
        "    # theta1 계산\n",
        "    k1 = L1 + L2 * np.cos(theta2)\n",
        "    k2 = L2 * np.sin(theta2)\n",
        "    theta1 = np.arctan2(y_target, x_target) - np.arctan2(k2, k1)\n",
        "\n",
        "    # 각도 출력 (도)\n",
        "    theta1_deg = np.degrees(theta1)\n",
        "    theta2_deg = np.degrees(theta2)\n",
        "    print(f\"🎯 역기구학 결과:\\nθ1 = {theta1_deg:.2f}°, θ2 = {theta2_deg:.2f}°\")"
      ],
      "metadata": {
        "id": "OHLh22baaA0J"
      },
      "execution_count": null,
      "outputs": []
    },
    {
      "cell_type": "code",
      "source": [
        "# === [순기구학 계산] ===\n",
        "x1 = L1 * np.cos(theta1)\n",
        "y1 = L1 * np.sin(theta1)\n",
        "\n",
        "x2 = x1 + L2 * np.cos(theta1 + theta2)\n",
        "y2 = y1 + L2 * np.sin(theta1 + theta2)\n",
        "\n",
        "# === [엔드포인트 출력] ===\n",
        "print(f\"🎯 엔드 이펙터 위치: x = {x2:.3f}, y = {y2:.3f}\")\n",
        "\n",
        "# === [로봇 구조 시각화] ===\n",
        "plt.figure(figsize=(6,6))\n",
        "plt.plot([0, x1, x2], [0, y1, y2], 'o-', linewidth=4, markersize=10, label='Robot Arm')\n",
        "plt.plot(x2, y2, 'ro', label=f'End Effector ({x2:.2f}, {y2:.2f})')\n",
        "plt.grid(True)\n",
        "plt.axis('equal')\n",
        "plt.xlim(-2, 2)\n",
        "plt.ylim(-2, 2)\n",
        "plt.xlabel('X position (m)')\n",
        "plt.ylabel('Y position (m)')\n",
        "plt.title('2-DOF Robot Arm Forward Kinematics')\n",
        "plt.legend()\n",
        "plt.show()"
      ],
      "metadata": {
        "id": "bNPYxyBgXiui"
      },
      "execution_count": null,
      "outputs": []
    }
  ]
}
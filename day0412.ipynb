{
  "nbformat": 4,
  "nbformat_minor": 0,
  "metadata": {
    "colab": {
      "private_outputs": true,
      "provenance": [],
      "gpuType": "T4",
      "toc_visible": true,
      "authorship_tag": "ABX9TyNwLhATKgfA+Ik+2vMusw4n",
      "include_colab_link": true
    },
    "kernelspec": {
      "name": "python3",
      "display_name": "Python 3"
    },
    "language_info": {
      "name": "python"
    },
    "accelerator": "GPU"
  },
  "cells": [
    {
      "cell_type": "markdown",
      "metadata": {
        "id": "view-in-github",
        "colab_type": "text"
      },
      "source": [
        "<a href=\"https://colab.research.google.com/github/kckohkoh2/fantastic-disco/blob/master/day0412.ipynb\" target=\"_parent\"><img src=\"https://colab.research.google.com/assets/colab-badge.svg\" alt=\"Open In Colab\"/></a>"
      ]
    },
    {
      "cell_type": "code",
      "execution_count": null,
      "metadata": {
        "id": "jD1CL49HsScp"
      },
      "outputs": [],
      "source": [
        "!apt-get update"
      ]
    },
    {
      "cell_type": "code",
      "source": [
        "!pip install mujoco"
      ],
      "metadata": {
        "id": "ZyMZWQ5bs29C"
      },
      "execution_count": null,
      "outputs": []
    },
    {
      "cell_type": "code",
      "source": [
        "!pip install pyvirtualdisplay\n",
        "!sudo apt-get install xvfb\n",
        "!pip install xvfbwrapper"
      ],
      "metadata": {
        "id": "JXNYuUYHtBbQ"
      },
      "execution_count": null,
      "outputs": []
    },
    {
      "cell_type": "code",
      "source": [
        "import gym\n",
        "import glob\n",
        "import io\n",
        "import base64\n",
        "from IPython.display import HTML\n",
        "from IPython import display as ipythondisplay\n",
        "from gym.wrappers.record_video import RecordVideo\n",
        "from pyvirtualdisplay import Display\n",
        "\n",
        "display = Display(visible=0, size=(1400, 900))\n",
        "display.start()\n",
        "\n",
        "def show_video():\n",
        "  mp4list = glob.glob('video/*.mp4')\n",
        "  if len(mp4list) > 0:\n",
        "    mp4 = mp4list[0]\n",
        "    video = io.open(mp4, 'r+b').read()\n",
        "    encoded = base64.b64encode(video)\n",
        "    ipythondisplay.display(HTML(data='''<video alt=\"test\" autoplay\n",
        "                loop controls style=\"height: 400px;\">\n",
        "                <source src=\"data:video/mp4;base64,{0}\" type=\"video/mp4\" />\n",
        "             </video>'''.format(encoded.decode('ascii'))))\n",
        "  else:\n",
        "    print(\"Could not find video\")\n",
        "\n",
        "\n",
        "env_name = 'Ant-v4'\n",
        "env = gym.make(env_name, render_mode=\"rgb_array\")\n",
        "env = RecordVideo(env, './video',  episode_trigger = lambda episode_number: True)\n",
        "state = env.reset()\n",
        "\n",
        "while True:\n",
        "  env.render()\n",
        "\n",
        "  mu,sigma = agent.get_action(torch.from_numpy(state).float().to(device))\n",
        "  dist = torch.distributions.Normal(mu,sigma[0])\n",
        "  action = dist.sample()\n",
        "  state, reward, done, info = env.step(action.cpu().numpy())\n",
        "\n",
        "  if done: break\n",
        "\n",
        "env.close()\n",
        "show_video()"
      ],
      "metadata": {
        "id": "lhktfB3ktNWX"
      },
      "execution_count": null,
      "outputs": []
    },
    {
      "cell_type": "code",
      "source": [
        "pip install numpy==1.23.5\n"
      ],
      "metadata": {
        "id": "rgeVsQWKvbGN"
      },
      "execution_count": null,
      "outputs": []
    },
    {
      "cell_type": "code",
      "source": [
        "import gym\n",
        "print(gym.__version__)\n"
      ],
      "metadata": {
        "id": "FqkvbexNutwm"
      },
      "execution_count": null,
      "outputs": []
    },
    {
      "cell_type": "code",
      "source": [
        "import gym\n",
        "import glob\n",
        "import io\n",
        "import base64\n",
        "import torch\n",
        "import numpy as np\n",
        "from IPython.display import HTML\n",
        "from IPython import display as ipythondisplay\n",
        "from gym.wrappers.record_video import RecordVideo\n",
        "from pyvirtualdisplay import Display\n",
        "\n",
        "# 가상 디스플레이 설정 (Colab 환경에서 필요)\n",
        "display = Display(visible=0, size=(1400, 900))\n",
        "display.start()\n",
        "\n",
        "# 영상 표시 함수\n",
        "def show_video():\n",
        "    mp4list = glob.glob('video/*.mp4')\n",
        "    if len(mp4list) > 0:\n",
        "        mp4 = mp4list[0]\n",
        "        video = io.open(mp4, 'r+b').read()\n",
        "        encoded = base64.b64encode(video)\n",
        "        ipythondisplay.display(HTML(data='''<video alt=\"test\" autoplay\n",
        "                    loop controls style=\"height: 400px;\">\n",
        "                    <source src=\"data:video/mp4;base64,{0}\" type=\"video/mp4\" />\n",
        "                 </video>'''.format(encoded.decode('ascii'))))\n",
        "    else:\n",
        "        print(\"Could not find video\")\n",
        "\n",
        "# 더미 에이전트 정의\n",
        "class DummyAgent:\n",
        "    def get_action(self, state):\n",
        "        mu = torch.zeros(8).to(state.device)       # Ant-v4의 액션 공간은 8차원\n",
        "        sigma = torch.ones(8).to(state.device) * 0.5\n",
        "        return mu, sigma\n",
        "\n",
        "# 에이전트 인스턴스 생성\n",
        "agent = DummyAgent()\n",
        "\n",
        "# 장치 설정\n",
        "device = torch.device(\"cuda\" if torch.cuda.is_available() else \"cpu\")\n",
        "\n",
        "# 환경 생성 및 설정\n",
        "env_name = 'Ant-v4'\n",
        "env = gym.make(env_name, render_mode=\"rgb_array\")\n",
        "env = RecordVideo(env, './video', episode_trigger=lambda episode_number: True)\n",
        "\n",
        "# 환경 초기화\n",
        "state = env.reset()\n",
        "\n",
        "# 에피소드 실행\n",
        "while True:\n",
        "    env.render()\n",
        "\n",
        "    # 상태를 텐서로 변환하여 에이전트에 전달\n",
        "    state_tensor = torch.from_numpy(state).float().to(device)\n",
        "    mu, sigma = agent.get_action(state_tensor)\n",
        "    dist = torch.distributions.Normal(mu, sigma)\n",
        "    action = dist.sample().cpu().numpy()\n",
        "\n",
        "    # 환경에 액션 적용\n",
        "    state, reward, done, info = env.step(action)\n",
        "\n",
        "    if done:\n",
        "        break\n",
        "\n",
        "# 환경 종료 및 영상 표시\n",
        "env.close()\n",
        "show_video()"
      ],
      "metadata": {
        "id": "oinKnVUVwiaY"
      },
      "execution_count": null,
      "outputs": []
    }
  ]
}
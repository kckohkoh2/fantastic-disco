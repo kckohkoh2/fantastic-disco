{
  "nbformat": 4,
  "nbformat_minor": 0,
  "metadata": {
    "colab": {
      "private_outputs": true,
      "provenance": [],
      "gpuType": "T4",
      "authorship_tag": "ABX9TyNXflXR7BRvFr3DxPywP9Ep",
      "include_colab_link": true
    },
    "kernelspec": {
      "name": "python3",
      "display_name": "Python 3"
    },
    "language_info": {
      "name": "python"
    },
    "accelerator": "GPU"
  },
  "cells": [
    {
      "cell_type": "markdown",
      "metadata": {
        "id": "view-in-github",
        "colab_type": "text"
      },
      "source": [
        "<a href=\"https://colab.research.google.com/github/kckohkoh2/fantastic-disco/blob/master/day0412.ipynb\" target=\"_parent\"><img src=\"https://colab.research.google.com/assets/colab-badge.svg\" alt=\"Open In Colab\"/></a>"
      ]
    },
    {
      "cell_type": "markdown",
      "source": [
        "(1) 설치하기"
      ],
      "metadata": {
        "id": "Ev2GrMG8QMey"
      }
    },
    {
      "cell_type": "code",
      "execution_count": null,
      "metadata": {
        "id": "jD1CL49HsScp"
      },
      "outputs": [],
      "source": [
        "!apt-get update #apt-get은 리눅스 시스템 패키지를 관리하는 명령어"
      ]
    },
    {
      "cell_type": "code",
      "source": [
        "!pip install mujoco #설치하기"
      ],
      "metadata": {
        "id": "ZyMZWQ5bs29C"
      },
      "execution_count": null,
      "outputs": []
    },
    {
      "cell_type": "markdown",
      "source": [
        "코랩에는 GUI가 따로 없기 때문에 MuJoCo 환경을 렌더링하기 위해서는 pyvirtualdisplay가 필요하다. pyvirtualdisplay를 사용하기 위해서는 Xvfb (X virtual framebuffer) 파일이 필요하므로 xvfb와 xvfbwrapper를 추가로 설치"
      ],
      "metadata": {
        "id": "-RaGs3EPQ4Pu"
      }
    },
    {
      "cell_type": "code",
      "source": [
        "!pip install pyvirtualdisplay\n",
        "!sudo apt-get install xvfb\n",
        "!pip install xvfbwrapper"
      ],
      "metadata": {
        "id": "JXNYuUYHtBbQ"
      },
      "execution_count": null,
      "outputs": []
    },
    {
      "cell_type": "markdown",
      "source": [
        "(6-1) 모듈 및 라이브러리 import"
      ],
      "metadata": {
        "id": "GLiU8LbERW5k"
      }
    },
    {
      "cell_type": "markdown",
      "source": [
        "gym: OpenAI Gym의 강화학습 환경을 사용하기 위한 라이브러리"
      ],
      "metadata": {
        "id": "213yCy5zRhLe"
      }
    },
    {
      "cell_type": "code",
      "source": [
        "import gym"
      ],
      "metadata": {
        "id": "V2ETudXoRpW-"
      },
      "execution_count": null,
      "outputs": []
    },
    {
      "cell_type": "markdown",
      "source": [
        "glob: 특정 경로의 파일 리스트를 가져올 수 있는 파이썬 표준 모듈입니다.\n",
        "예: glob.glob(\"video/*.mp4\")로 video 폴더 내의 mp4 파일들을 모두 찾음."
      ],
      "metadata": {
        "id": "f89AjsyaRu75"
      }
    },
    {
      "cell_type": "code",
      "source": [
        "import glob"
      ],
      "metadata": {
        "id": "vt_NA9ltRwMb"
      },
      "execution_count": null,
      "outputs": []
    },
    {
      "cell_type": "markdown",
      "source": [
        "io: 파일을 바이너리로 읽기 위한 입출력 라이브러리입니다.\n",
        "비디오 파일을 바이트로 읽기 위해 사용됩니다."
      ],
      "metadata": {
        "id": "7mwtunoASKYm"
      }
    },
    {
      "cell_type": "code",
      "source": [
        "import io"
      ],
      "metadata": {
        "id": "4xzamIpaSOpI"
      },
      "execution_count": null,
      "outputs": []
    },
    {
      "cell_type": "markdown",
      "source": [
        "base64: 비디오 데이터를 base64 인코딩하여 웹에서 표시할 수 있게 합니다.\n",
        "Jupyter 노트북에서 비디오를 직접 삽입하려면 base64 인코딩이 필요합니다.\n",
        "IPython.display: Jupyter Notebook에서 HTML이나 비디오를 표시하기 위한 모듈입니다."
      ],
      "metadata": {
        "id": "SOaY4uU7SVkP"
      }
    },
    {
      "cell_type": "code",
      "source": [
        "import base64"
      ],
      "metadata": {
        "id": "wL2VyxTbSW2J"
      },
      "execution_count": null,
      "outputs": []
    },
    {
      "cell_type": "markdown",
      "source": [
        "수치 연산용 패키지로, 상태/행동/보상 등을 배열로 처리하는 데 자주 사용됩니다.\n",
        "예: np.array(action), np.mean() 등."
      ],
      "metadata": {
        "id": "I2_Q4oJ9SbK9"
      }
    },
    {
      "cell_type": "code",
      "source": [
        "!pip install numpy==1.23.5\n",
        "import numpy as np\n",
        "import torch"
      ],
      "metadata": {
        "id": "lo8J5-4aSfW9"
      },
      "execution_count": null,
      "outputs": []
    },
    {
      "cell_type": "markdown",
      "source": [
        "Jupyter 노트북 내에서 HTML 기반의 영상 또는 출력 삽입을 위해 사용됩니다.\n",
        "ipythondisplay.display(HTML(...)) 형태로 비디오 렌더링."
      ],
      "metadata": {
        "id": "-i2lp3XESnVC"
      }
    },
    {
      "cell_type": "code",
      "source": [
        "from IPython.display import HTML\n",
        "from IPython import display as ipythondisplay"
      ],
      "metadata": {
        "id": "4KzGt3MyStMG"
      },
      "execution_count": null,
      "outputs": []
    },
    {
      "cell_type": "markdown",
      "source": [
        "RecordVideo: Gym 환경의 비디오를 자동 녹화해주는 래퍼입니다.\n",
        "Gym 환경을 비디오로 저장하기 위한 비디오 래퍼입니다.\n",
        "환경을 감싸면 자동으로 .mp4 파일이 생성됩니다."
      ],
      "metadata": {
        "id": "c1ZONpktS07z"
      }
    },
    {
      "cell_type": "code",
      "source": [
        "from gym.wrappers.record_video import RecordVideo"
      ],
      "metadata": {
        "id": "w5W2UeiFS2Uw"
      },
      "execution_count": null,
      "outputs": []
    },
    {
      "cell_type": "markdown",
      "source": [
        "pyvirtualdisplay: GUI가 없는 환경(예: Colab)에서도 렌더링이 가능하게 가상 디스플레이를 설정하는 도구입니다.\n",
        "Display(visible=0, size=(1400, 900)) 설정 후 .start() 하면 사용 가능."
      ],
      "metadata": {
        "id": "YYrbfZo9TCGg"
      }
    },
    {
      "cell_type": "code",
      "source": [
        "from pyvirtualdisplay import Display"
      ],
      "metadata": {
        "id": "OJVn-RHNTOOL"
      },
      "execution_count": null,
      "outputs": []
    },
    {
      "cell_type": "markdown",
      "source": [
        "(6-2) 화면을 가상으로 생성하는 설정"
      ],
      "metadata": {
        "id": "sPCXcSgKTYow"
      }
    },
    {
      "cell_type": "markdown",
      "source": [
        "Display는 pyvirtualdisplay 모듈의 클래스입니다.\n",
        "visible=0: 실제 화면을 표시하지 않음 (백그라운드에서 실행).\n",
        "size=(1400, 900): 가상 디스플레이 해상도 설정.\n",
        "즉, GUI가 없는 환경(예: Google Colab, 리눅스 서버)에서도 렌더링이 가능한 화면을 가상으로 생성하는 설정입니다."
      ],
      "metadata": {
        "id": "fi8kYpW9Tdmc"
      }
    },
    {
      "cell_type": "code",
      "source": [
        "display = Display(visible=0, size=(1400, 900))\n",
        "display.start()"
      ],
      "metadata": {
        "id": "CmjqMn16ThI4"
      },
      "execution_count": null,
      "outputs": []
    },
    {
      "cell_type": "markdown",
      "source": [
        "(6-3) Google Colab에서 Gym 환경의 실행 결과로 저장된 .mp4 비디오 파일을 직접 노트북 셀에 표시하는 함수"
      ],
      "metadata": {
        "id": "ayrAip2vT0L1"
      }
    },
    {
      "cell_type": "code",
      "source": [
        "#영상 표시 함수\n",
        "def show_video():\n",
        "    mp4list = glob.glob('video/*.mp4') #'video'폴더에서 mp4 확장자를 가진 모든 파일 경로를 리스트로 가져옴\n",
        "    if len(mp4list) > 0:   #mp4 파일이 하나 이상 있을 경우에만 다음 처리를 합니다.\n",
        "        mp4 = mp4list[0]   #mp4 파일 중 첫 번째 파일을 열고\n",
        "        video = io.open(mp4, 'r+b').read() #(r+b: 읽기 + 바이너리 모드) 내용을 바이트 단위로 읽습니다.\n",
        "        encoded = base64.b64encode(video) #읽은 비디오 데이터를 base64 형식으로 인코딩\n",
        "        ipythondisplay.display(HTML(data='''<video alt=\"test\" autoplay\n",
        "                    loop controls style=\"height: 400px;\">\n",
        "                    <source src=\"data:video/mp4;base64,{0}\" type=\"video/mp4\" />\n",
        "                 </video>'''.format(encoded.decode('ascii'))))\n",
        "    else:\n",
        "        print(\"Could not find video\")"
      ],
      "metadata": {
        "id": "51ebY6UcUC0Z"
      },
      "execution_count": null,
      "outputs": []
    },
    {
      "cell_type": "markdown",
      "source": [
        "(6-4) 클래스 DummyAgent"
      ],
      "metadata": {
        "id": "YJ6VPcPbVjyb"
      }
    },
    {
      "cell_type": "markdown",
      "source": [
        "이름을 Dummy로 지은 것은 강화학습을 실제로 수행하지 않고도 환경을 실행해보기 위한 가짜 에이전트 클래스이기 때문입니다."
      ],
      "metadata": {
        "id": "CCoLTNUCWp1A"
      }
    },
    {
      "cell_type": "markdown",
      "source": [
        "표준편차가 0.5인 8차원 벡터를 생성합니다.\n",
        "이는 샘플링할 때 행동이 mu=0을 중심으로 분산되도록 설정함을 의미합니다.\n",
        "Normal(mu, sigma) 분포에서 행동을 샘플링할 수 있게 해줍니다.\n"
      ],
      "metadata": {
        "id": "ulCvR78uXjDB"
      }
    },
    {
      "cell_type": "code",
      "source": [
        "# 더미 에이전트 정의\n",
        "class DummyAgent:\n",
        "    def get_action(self, state):   #주어진 상태(state)를 입력받아, 행동 분포를 반환\n",
        "        mu = torch.zeros(8).to(state.device)         # Ant-v4의 액션 공간은 8차원 벡터(평균 0)\n",
        "        sigma = torch.ones(8).to(state.device) * 0.5 #확률적 정책(표준편차 0.5)\n",
        "        return mu, sigma\n",
        "\n",
        "# 에이전트 인스턴스 생성\n",
        "agent = DummyAgent()"
      ],
      "metadata": {
        "id": "0fNEO9mYWfnT"
      },
      "execution_count": null,
      "outputs": []
    },
    {
      "cell_type": "markdown",
      "source": [
        "(6-5) 설정 및 초기화"
      ],
      "metadata": {
        "id": "Aj9DjCUUXuXE"
      }
    },
    {
      "cell_type": "markdown",
      "source": [
        "device는 다음과 같이 정의될 수 있습니다.\n",
        "device = torch.device(\"cuda\" if torch.cuda.is_available() else \"cpu\")\n",
        "결론: to(state.device)는 GPU/CPU 모두 자동 대응되는 똑똑한 장치 선택자입니다."
      ],
      "metadata": {
        "id": "nqQPq4xmX2xZ"
      }
    },
    {
      "cell_type": "code",
      "source": [
        "# 장치 설정\n",
        "device = torch.device(\"cuda\" if torch.cuda.is_available() else \"cpu\")"
      ],
      "metadata": {
        "id": "nTMDDYc_X9fX"
      },
      "execution_count": null,
      "outputs": []
    },
    {
      "cell_type": "markdown",
      "source": [
        "'Ant-v4': MuJoCo 기반의 네 다리 로봇 걷기 환경입니다.\n",
        "render_mode=\"rgb_array\": 화면을 numpy 배열(RGB 이미지)로 렌더링하게 만듭니다.Ant-v4는 MuJoCo 설치가 필요합니다 (pip install mujoco gym[mujoco])."
      ],
      "metadata": {
        "id": "bqywpRylYifE"
      }
    },
    {
      "cell_type": "code",
      "source": [
        "# 환경 생성 및 설정\n",
        "env_name = 'Ant-v4'\n",
        "env = gym.make(env_name, render_mode=\"rgb_array\")\n",
        "env = RecordVideo(env, './video', episode_trigger=lambda episode_number: True)"
      ],
      "metadata": {
        "id": "EkKr2dr2Yon3"
      },
      "execution_count": null,
      "outputs": []
    },
    {
      "cell_type": "markdown",
      "source": [
        "(6-6) 에피소드 실행\n",
        "Gym 환경의 한 에피소드를 실행하며, 에이전트가 행동을 선택하고, 환경에 적용하는 강화학습 시뮬레이션 루프입니다."
      ],
      "metadata": {
        "id": "1nNzQC9vZIRR"
      }
    },
    {
      "cell_type": "markdown",
      "source": [
        "15초정도 걸림"
      ],
      "metadata": {
        "id": "PE6ZPSu7c7jZ"
      }
    },
    {
      "cell_type": "code",
      "source": [
        "# 환경 초기화\n",
        "state = env.reset()\n",
        "# 에피소드 실행\n",
        "while True:\n",
        "    env.render() #현재 환경 상태를 화면에 렌더링합니다.\n",
        "\n",
        "    # 상태를 텐서로 변환하여 에이전트에 전달\n",
        "    state_tensor = torch.from_numpy(state).float().to(device) #2. 상태 → 텐서 변환 (GPU로 이동 포함)\n",
        "    mu, sigma = agent.get_action(state_tensor) #에이전트로부터 행동 분포 얻기\n",
        "    dist = torch.distributions.Normal(mu, sigma) #평균과 분산으로부터 정규분포 생성\n",
        "    action = dist.sample().cpu().numpy() #.sample()로 행동 샘플링 (확률적),다시 넘파이 배열로 변환\n",
        "    # 환경에 액션 적용\n",
        "    state, reward, done, info = env.step(action) #환경에 action 적용 → 다음 상태 반환\n",
        "    if done:\n",
        "        break #done == True면 에피소드 종료"
      ],
      "metadata": {
        "id": "4TDe9EdUZTAF"
      },
      "execution_count": null,
      "outputs": []
    },
    {
      "cell_type": "code",
      "source": [
        "# 환경 종료 및 영상 표시\n",
        "env.close()\n",
        "show_video()"
      ],
      "metadata": {
        "id": "Dtw3pHsQdB-m"
      },
      "execution_count": null,
      "outputs": []
    },
    {
      "cell_type": "code",
      "source": [
        "import gym\n",
        "import glob\n",
        "import io\n",
        "import base64\n",
        "import torch\n",
        "import numpy as np\n",
        "from IPython.display import HTML\n",
        "from IPython import display as ipythondisplay\n",
        "from gym.wrappers.record_video import RecordVideo\n",
        "from pyvirtualdisplay import Display\n",
        "\n",
        "# 가상 디스플레이 설정 (Colab 환경에서 필요)\n",
        "display = Display(visible=0, size=(1400, 900))\n",
        "display.start()\n",
        "\n",
        "# 영상 표시 함수\n",
        "def show_video():\n",
        "    mp4list = glob.glob('video/*.mp4')\n",
        "    if len(mp4list) > 0:\n",
        "        mp4 = mp4list[0]\n",
        "        video = io.open(mp4, 'r+b').read()\n",
        "        encoded = base64.b64encode(video)\n",
        "        ipythondisplay.display(HTML(data='''<video alt=\"test\" autoplay\n",
        "                    loop controls style=\"height: 400px;\">\n",
        "                    <source src=\"data:video/mp4;base64,{0}\" type=\"video/mp4\" />\n",
        "                 </video>'''.format(encoded.decode('ascii'))))\n",
        "    else:\n",
        "        print(\"Could not find video\")\n",
        "\n",
        "# 더미 에이전트 정의\n",
        "class DummyAgent:\n",
        "    def get_action(self, state):\n",
        "        mu = torch.zeros(8).to(state.device)       # Ant-v4의 액션 공간은 8차원\n",
        "        sigma = torch.ones(8).to(state.device) * 0.5\n",
        "        return mu, sigma\n",
        "\n",
        "# 에이전트 인스턴스 생성\n",
        "agent = DummyAgent()\n",
        "\n",
        "# 장치 설정\n",
        "device = torch.device(\"cuda\" if torch.cuda.is_available() else \"cpu\")\n",
        "\n",
        "# 환경 생성 및 설정\n",
        "env_name = 'Ant-v4'\n",
        "env = gym.make(env_name, render_mode=\"rgb_array\")\n",
        "env = RecordVideo(env, './video', episode_trigger=lambda episode_number: True)\n",
        "\n",
        "# 환경 초기화\n",
        "state = env.reset()\n",
        "\n",
        "# 에피소드 실행\n",
        "while True:\n",
        "    env.render()\n",
        "\n",
        "    # 상태를 텐서로 변환하여 에이전트에 전달\n",
        "    state_tensor = torch.from_numpy(state).float().to(device)\n",
        "    mu, sigma = agent.get_action(state_tensor)\n",
        "    dist = torch.distributions.Normal(mu, sigma)\n",
        "    action = dist.sample().cpu().numpy()\n",
        "\n",
        "    # 환경에 액션 적용\n",
        "    state, reward, done, info = env.step(action)\n",
        "\n",
        "    if done:\n",
        "        break\n",
        "\n",
        "# 환경 종료 및 영상 표시\n",
        "env.close()\n",
        "show_video()"
      ],
      "metadata": {
        "id": "oinKnVUVwiaY"
      },
      "execution_count": null,
      "outputs": []
    }
  ]
}
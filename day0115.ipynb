{
  "nbformat": 4,
  "nbformat_minor": 0,
  "metadata": {
    "colab": {
      "provenance": [],
      "authorship_tag": "ABX9TyNXSqcMk1qGI07SsNeQ4nTT",
      "include_colab_link": true
    },
    "kernelspec": {
      "name": "python3",
      "display_name": "Python 3"
    },
    "language_info": {
      "name": "python"
    }
  },
  "cells": [
    {
      "cell_type": "markdown",
      "metadata": {
        "id": "view-in-github",
        "colab_type": "text"
      },
      "source": [
        "<a href=\"https://colab.research.google.com/github/kckohkoh2/fantastic-disco/blob/master/day0115.ipynb\" target=\"_parent\"><img src=\"https://colab.research.google.com/assets/colab-badge.svg\" alt=\"Open In Colab\"/></a>"
      ]
    },
    {
      "cell_type": "code",
      "execution_count": null,
      "metadata": {
        "colab": {
          "base_uri": "https://localhost:8080/"
        },
        "id": "cId6EpKeOISe",
        "outputId": "e8d43224-e87e-4a51-8e96-32fe6105bda1"
      },
      "outputs": [
        {
          "output_type": "stream",
          "name": "stdout",
          "text": [
            "[5 3 3] [5 3 3]\n"
          ]
        }
      ],
      "source": [
        "import numpy as np\n",
        "h=np.array([[1,0,0,1,2],\n",
        "            [1,0,0,0,1],\n",
        "            [1,1,0,0,1]])\n",
        "hd=np.array([1,0,0,0,2])\n",
        "c1=np.dot(h,hd)\n",
        "c2=np.inner(h,hd)\n"
      ]
    },
    {
      "cell_type": "code",
      "source": [
        "import numpy as np\n",
        "a=[3,2,0]\n",
        "b=[0,5,0]\n",
        "c=np.inner(a,b)\n",
        "d=np.outer(a,b)\n",
        "e=np.dot(a,b)\n",
        "f=np.cross(a,b)\n",
        "print(c)\n",
        "print(d)\n",
        "print(e)\n",
        "print(f)"
      ],
      "metadata": {
        "colab": {
          "base_uri": "https://localhost:8080/"
        },
        "id": "LNNRjqBxOrYQ",
        "outputId": "2ff645c2-6515-4b81-d8f5-42b1bdc79b24"
      },
      "execution_count": 6,
      "outputs": [
        {
          "output_type": "stream",
          "name": "stdout",
          "text": [
            "10\n",
            "[[ 0 15  0]\n",
            " [ 0 10  0]\n",
            " [ 0  0  0]]\n",
            "10\n",
            "[ 0  0 15]\n"
          ]
        }
      ]
    },
    {
      "cell_type": "code",
      "source": [
        "import numpy as np\n",
        "a=np.array([2,4,0])\n",
        "b=np.array([3,1,0])\n",
        "cross_ab=np.cross(a,b)\n",
        "s=np.linalg.norm(cross_ab)\n",
        "print(s/2)"
      ],
      "metadata": {
        "colab": {
          "base_uri": "https://localhost:8080/"
        },
        "id": "HTKe0d2wOoUl",
        "outputId": "2a91ec89-4b5b-444c-fc97-b23c3228dd7d"
      },
      "execution_count": 12,
      "outputs": [
        {
          "output_type": "stream",
          "name": "stdout",
          "text": [
            "5.0\n"
          ]
        }
      ]
    },
    {
      "cell_type": "code",
      "source": [
        "import numpy as np\n",
        "a=[1,4,0]\n",
        "b=[2,-5,0]\n",
        "f=np.cross(a,b)\n",
        "print(np.dot(a,f))\n",
        "print(np.dot(b,f))"
      ],
      "metadata": {
        "colab": {
          "base_uri": "https://localhost:8080/"
        },
        "id": "6IbtX8TLSPnV",
        "outputId": "023e944c-ec82-44af-8610-f39929b70d2d"
      },
      "execution_count": 7,
      "outputs": [
        {
          "output_type": "stream",
          "name": "stdout",
          "text": [
            "0\n",
            "0\n"
          ]
        }
      ]
    },
    {
      "cell_type": "code",
      "source": [
        "a"
      ],
      "metadata": {
        "id": "WnUl6apYOfhR"
      },
      "execution_count": null,
      "outputs": []
    },
    {
      "cell_type": "code",
      "source": [
        "def softmax(a):\n",
        "    exp_a=np.exp(a)\n",
        "    sum_exp_a=np.sum(exp_a)\n",
        "    y=exp_a/sum_exp_a\n",
        "    return y\n",
        "c1_sm=softmax(c1)\n",
        "print(c1_sm)\n",
        "print(np.sum(c1_sm))"
      ],
      "metadata": {
        "colab": {
          "base_uri": "https://localhost:8080/"
        },
        "id": "ZSg1CvMDSuts",
        "outputId": "2c946b50-2458-4fc3-c4af-f42eb5039d7a"
      },
      "execution_count": null,
      "outputs": [
        {
          "output_type": "stream",
          "name": "stdout",
          "text": [
            "[0.78698604 0.10650698 0.10650698]\n",
            "1.0\n"
          ]
        }
      ]
    },
    {
      "cell_type": "code",
      "source": [
        "import math\n",
        "a=3;b=4;c=6\n",
        "A1=math.sqrt(4*a**2*c**2-(a**2+c**2-b**2)**2)/4\n",
        "S=(a+b+c)/2\n",
        "A2=math.sqrt(S*(S-a)*(S-b)*(S-c))\n",
        "print(A1,A2)"
      ],
      "metadata": {
        "colab": {
          "base_uri": "https://localhost:8080/"
        },
        "id": "rWmfy5jpQkvl",
        "outputId": "77a5b280-84e7-426d-e48f-5ac0b5e58d23"
      },
      "execution_count": 14,
      "outputs": [
        {
          "output_type": "stream",
          "name": "stdout",
          "text": [
            "5.332682251925386 5.332682251925386\n"
          ]
        }
      ]
    },
    {
      "cell_type": "code",
      "source": [
        "import math\n",
        "import numpy as np\n",
        "a=3;b=4;c=5\n",
        "a_v=[a,0]\n",
        "theta=math.acos((a**2+c**2-b**2)/(2*a*c))\n",
        "c_v=[c*math.cos(theta),c*math.sin(theta)]\n",
        "cross_ac=np.cross(a_v,c_v)\n",
        "S=np.linalg.norm(cross_ac)/2\n",
        "print(S)"
      ],
      "metadata": {
        "colab": {
          "base_uri": "https://localhost:8080/"
        },
        "id": "oQHtL2oHQrGz",
        "outputId": "4bee3f3e-50d0-4349-a40d-b6c7f5bcab6f"
      },
      "execution_count": 2,
      "outputs": [
        {
          "output_type": "stream",
          "name": "stdout",
          "text": [
            "6.0\n"
          ]
        }
      ]
    },
    {
      "cell_type": "markdown",
      "source": [
        "식(21)을 이용하는 방법"
      ],
      "metadata": {
        "id": "AZuLVVhKcQAU"
      }
    },
    {
      "cell_type": "code",
      "source": [
        "import math\n",
        "a=3;b=4;c=6;d=4;e=6;f=7\n",
        "cx=(a**2+c**2-b**2)/(2*a)\n",
        "cy=math.sqrt(c**2-cx**2)\n",
        "#cy=math.sqrt(c**2-((a**2+c**2-b**2)/(2*a))**2)\n",
        "dx=(a**2+d**2-e**2)/(2*a)\n",
        "dy=(c**2+d**2-f**2-2*cx*dx)/(2*cy)\n",
        "h=math.sqrt(d**2-(dx**2+dy**2))\n",
        "V=1/6*a*cy*h\n",
        "print(dy)\n",
        "print(V)"
      ],
      "metadata": {
        "colab": {
          "base_uri": "https://localhost:8080/"
        },
        "id": "nqip2rdiZvDS",
        "outputId": "a1759a8a-f143-448b-d6df-ff120062daae"
      },
      "execution_count": 86,
      "outputs": [
        {
          "output_type": "stream",
          "name": "stdout",
          "text": [
            "2.914418285667646\n",
            "3.6190084584347466\n"
          ]
        }
      ]
    },
    {
      "cell_type": "markdown",
      "source": [
        "식(22)를 이용하는 방법"
      ],
      "metadata": {
        "id": "S1JUxxpucZGr"
      }
    },
    {
      "cell_type": "code",
      "source": [
        "import math\n",
        "import numpy as np\n",
        "a=3;b=4;c=6;d=4;e=6;f=7\n",
        "cy=math.sqrt(c**2-((a**2+c**2-b**2)/(2*a))**2)\n",
        "cx=(a**2+c**2-b**2)/(2*a)\n",
        "dx=(a**2+d**2-e**2)/(2*a)\n",
        "dy=(a*(c**2+d**2-f**2)-cx*(a**2+d**2-e**2))/(2*cy*a)\n",
        "h=math.sqrt(d**2-(dx**2+dy**2))\n",
        "V=1/6*a*cy*h\n",
        "print(dy)\n",
        "print(V)"
      ],
      "metadata": {
        "colab": {
          "base_uri": "https://localhost:8080/"
        },
        "id": "t9y-TTiGSfI6",
        "outputId": "128dcaad-96d1-4c61-fb2c-4f4bc0110267"
      },
      "execution_count": 77,
      "outputs": [
        {
          "output_type": "stream",
          "name": "stdout",
          "text": [
            "2.914418285667646\n",
            "3.6190084584347466\n"
          ]
        }
      ]
    },
    {
      "cell_type": "markdown",
      "source": [
        "식(23)을 이용하는 방법"
      ],
      "metadata": {
        "id": "4SPoJtUJcEN6"
      }
    },
    {
      "cell_type": "code",
      "source": [
        "import math\n",
        "import numpy as np\n",
        "a=3;b=4;c=6;d=4;e=6;f=7\n",
        "cy=math.sqrt(c**2-((a**2+c**2-b**2)/(2*a))**2)\n",
        "cx=(a**2+c**2-b**2)/(2*a)\n",
        "dy=((2*a**2*(c**2+d**2-f**2)-(a**2+c**2-b**2)*(a**2+d**2-e**2))\n",
        "    /(2*a*math.sqrt(4*a**2*c**2-(a**2+c**2-b**2)**2)))\n",
        "dx=(a**2+d**2-e**2)/(2*a)\n",
        "h=math.sqrt(d**2-(dx**2+dy**2))\n",
        "V=1/6*a*cy*h\n",
        "print(dy)\n",
        "print(V)"
      ],
      "metadata": {
        "colab": {
          "base_uri": "https://localhost:8080/"
        },
        "id": "NJjLLZrQ66ta",
        "outputId": "27207662-31cb-4f68-d338-86152d541429"
      },
      "execution_count": 87,
      "outputs": [
        {
          "output_type": "stream",
          "name": "stdout",
          "text": [
            "2.9144182856676464\n",
            "3.6190084584347453\n"
          ]
        }
      ]
    },
    {
      "cell_type": "markdown",
      "source": [
        "벡터곱과 내적곱을 이용하는 방법"
      ],
      "metadata": {
        "id": "nZ90vaQdb1sY"
      }
    },
    {
      "cell_type": "code",
      "source": [
        "import numpy as np\n",
        "A=np.array([a,0,0])\n",
        "C=np.array([cx,cy,0])\n",
        "D=np.array([dx,dy,h])\n",
        "V=1/6*np.dot(np.cross(A,C),D)\n",
        "print(V)"
      ],
      "metadata": {
        "colab": {
          "base_uri": "https://localhost:8080/"
        },
        "id": "RrzFIRlZsdSh",
        "outputId": "a597ea2b-e9c2-4cd7-f3aa-8d04dd44bf5c"
      },
      "execution_count": 84,
      "outputs": [
        {
          "output_type": "stream",
          "name": "stdout",
          "text": [
            "3.6190084584347453\n"
          ]
        }
      ]
    },
    {
      "cell_type": "markdown",
      "source": [
        "Travkin의 방법"
      ],
      "metadata": {
        "id": "d1CeHr6yboVG"
      }
    },
    {
      "cell_type": "code",
      "source": [
        "import math\n",
        "a=3;b=4;c=6;d=4;e=6;f=7\n",
        "u=d;v=e;w=f;U=b;V=c;W=a\n",
        "X=(w-U+v)*(U+v+w)\n",
        "Y=(u-V+w)*(V+w+u)\n",
        "Z=(v-W+u)*(W+u+v)\n",
        "x=(U-v+w)*(v-w+U)\n",
        "y=(V-w+u)*(w-u+V)\n",
        "z=(W-u+v)*(u-v+W)\n",
        "a=math.sqrt(x*Y*Z)\n",
        "b=math.sqrt(y*Z*X)\n",
        "c=math.sqrt(z*X*Y)\n",
        "d=math.sqrt(x*y*z)\n",
        "V=math.sqrt((-a+b+c+d)*(a-b+c+d)*(a+b-c+d)*(a+b+c-d))/(192*u*v*w)\n",
        "print(V)"
      ],
      "metadata": {
        "colab": {
          "base_uri": "https://localhost:8080/"
        },
        "id": "onfTIXdYcvKo",
        "outputId": "bab72647-35dc-459f-9f14-ae73b1dd730e"
      },
      "execution_count": 85,
      "outputs": [
        {
          "output_type": "stream",
          "name": "stdout",
          "text": [
            "3.619008458434743\n"
          ]
        }
      ]
    }
  ]
}
{
  "nbformat": 4,
  "nbformat_minor": 0,
  "metadata": {
    "colab": {
      "provenance": [],
      "authorship_tag": "ABX9TyMsIgkkj5ZvBy+QHOzHH8/X",
      "include_colab_link": true
    },
    "kernelspec": {
      "name": "python3",
      "display_name": "Python 3"
    },
    "language_info": {
      "name": "python"
    }
  },
  "cells": [
    {
      "cell_type": "markdown",
      "metadata": {
        "id": "view-in-github",
        "colab_type": "text"
      },
      "source": [
        "<a href=\"https://colab.research.google.com/github/kckohkoh2/fantastic-disco/blob/master/day0115.ipynb\" target=\"_parent\"><img src=\"https://colab.research.google.com/assets/colab-badge.svg\" alt=\"Open In Colab\"/></a>"
      ]
    },
    {
      "cell_type": "code",
      "execution_count": 2,
      "metadata": {
        "colab": {
          "base_uri": "https://localhost:8080/"
        },
        "id": "cId6EpKeOISe",
        "outputId": "e8d43224-e87e-4a51-8e96-32fe6105bda1"
      },
      "outputs": [
        {
          "output_type": "stream",
          "name": "stdout",
          "text": [
            "[5 3 3] [5 3 3]\n"
          ]
        }
      ],
      "source": [
        "import numpy as np\n",
        "h=np.array([[1,0,0,1,2],\n",
        "            [1,0,0,0,1],\n",
        "            [1,1,0,0,1]])\n",
        "hd=np.array([1,0,0,0,2])\n",
        "c1=np.dot(h,hd)\n",
        "c2=np.inner(h,hd)\n"
      ]
    },
    {
      "cell_type": "code",
      "source": [
        "def softmax(a):\n",
        "    exp_a=np.exp(a)\n",
        "    sum_exp_a=np.sum(exp_a)\n",
        "    y=exp_a/sum_exp_a\n",
        "    return y\n",
        "c1_sm=softmax(c1)\n",
        "print(c1_sm)\n",
        "print(np.sum(c1_sm))"
      ],
      "metadata": {
        "colab": {
          "base_uri": "https://localhost:8080/"
        },
        "id": "ZSg1CvMDSuts",
        "outputId": "2c946b50-2458-4fc3-c4af-f42eb5039d7a"
      },
      "execution_count": 5,
      "outputs": [
        {
          "output_type": "stream",
          "name": "stdout",
          "text": [
            "[0.78698604 0.10650698 0.10650698]\n",
            "1.0\n"
          ]
        }
      ]
    }
  ]
}
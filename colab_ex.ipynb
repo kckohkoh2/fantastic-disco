{
  "nbformat": 4,
  "nbformat_minor": 0,
  "metadata": {
    "colab": {
      "private_outputs": true,
      "provenance": [],
      "authorship_tag": "ABX9TyPXxflUCHLFXaz0DQjyNtzV",
      "include_colab_link": true
    },
    "kernelspec": {
      "name": "python3",
      "display_name": "Python 3"
    },
    "language_info": {
      "name": "python"
    },
    "accelerator": "GPU",
    "gpuClass": "standard"
  },
  "cells": [
    {
      "cell_type": "markdown",
      "metadata": {
        "id": "view-in-github",
        "colab_type": "text"
      },
      "source": [
        "<a href=\"https://colab.research.google.com/github/kckohkoh2/fantastic-disco/blob/master/colab_ex.ipynb\" target=\"_parent\"><img src=\"https://colab.research.google.com/assets/colab-badge.svg\" alt=\"Open In Colab\"/></a>"
      ]
    },
    {
      "cell_type": "code",
      "execution_count": null,
      "metadata": {
        "id": "NQIHzswWwbBb"
      },
      "outputs": [],
      "source": [
        "!cat /etc/issue.net"
      ]
    },
    {
      "cell_type": "code",
      "source": [
        "!head /proc/cpuinfo"
      ],
      "metadata": {
        "id": "u9tu9E2Z0aid"
      },
      "execution_count": null,
      "outputs": []
    },
    {
      "cell_type": "code",
      "source": [
        "!nvidia-smi"
      ],
      "metadata": {
        "id": "OID8H0Yc1d5h"
      },
      "execution_count": null,
      "outputs": []
    },
    {
      "cell_type": "code",
      "source": [
        "import math \n",
        "def divisor(n):\n",
        "    div=[1] #div[0]=1 \n",
        "    m=int(math.sqrt(n))+1 #검사회수 줄이기 위해 제곱근 사용\n",
        "    d=0\n",
        "    i=2\n",
        "    while(i<m):\n",
        "        if(n%i==0):\n",
        "            d+=1\n",
        "            div.insert(d,i)\n",
        "            m=int(n/i)\n",
        "            if i!=m:\n",
        "                div.insert(d+1,m)\n",
        "        i+=1\n",
        "    if n!=1:\n",
        "        div.append(n) #n=1외에 자기자신을 약수 추가\n",
        "    return div\n",
        "import timeit\n",
        "while 1:\n",
        "    n=int(input(\"n=\"))\n",
        "    start=timeit.default_timer()\n",
        "    div=divisor(n)\n",
        "    print(timeit.default_timer()-start)\n",
        "    print(div)"
      ],
      "metadata": {
        "id": "nYGfGETm2Ox8"
      },
      "execution_count": null,
      "outputs": []
    },
    {
      "cell_type": "code",
      "source": [],
      "metadata": {
        "id": "qat-ybpg2Uib"
      },
      "execution_count": null,
      "outputs": []
    }
  ]
}
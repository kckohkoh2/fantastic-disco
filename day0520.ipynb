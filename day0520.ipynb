{
  "nbformat": 4,
  "nbformat_minor": 0,
  "metadata": {
    "colab": {
      "private_outputs": true,
      "provenance": [],
      "machine_shape": "hm",
      "gpuType": "T4",
      "authorship_tag": "ABX9TyObiV5PnHuerpu67P8kge01",
      "include_colab_link": true
    },
    "kernelspec": {
      "name": "python3",
      "display_name": "Python 3"
    },
    "language_info": {
      "name": "python"
    },
    "accelerator": "GPU"
  },
  "cells": [
    {
      "cell_type": "markdown",
      "metadata": {
        "id": "view-in-github",
        "colab_type": "text"
      },
      "source": [
        "<a href=\"https://colab.research.google.com/github/kckohkoh2/fantastic-disco/blob/master/day0520.ipynb\" target=\"_parent\"><img src=\"https://colab.research.google.com/assets/colab-badge.svg\" alt=\"Open In Colab\"/></a>"
      ]
    },
    {
      "cell_type": "code",
      "execution_count": null,
      "metadata": {
        "id": "SLBr21GiROWW"
      },
      "outputs": [],
      "source": [
        "from google.colab import files\n",
        "import pandas as pd\n",
        "\n",
        "# 파일 업로드 버튼 띄우기\n",
        "uploaded = files.upload()\n",
        "\n",
        "# 업로드한 파일 불러오기 (예: employees.csv)\n",
        "df = pd.read_csv('employees.csv', encoding='utf-8')\n",
        "\n",
        "# 데이터 확인\n",
        "print(\"📋 업로드된 데이터:\")\n",
        "print(df.head())"
      ]
    },
    {
      "cell_type": "code",
      "source": [
        "import pandas as pd\n",
        "\n",
        "# 기존 CSV 파일 불러오기\n",
        "df = pd.read_csv('employees.csv', encoding='utf-8-sig')\n",
        "\n",
        "# 추가할 행(딕셔너리 형식)\n",
        "new_row = {'이름': '고경철', '부서': '연구부', '직급': '책임'}\n",
        "# ✅ 새 행을 DataFrame으로 만들기 (딕셔너리 → 리스트 → DataFrame)\n",
        "new_row = pd.DataFrame([new_row])\n",
        "# 행 추가\n",
        "df = pd.concat([df, new_row], ignore_index=True)\n",
        "\n",
        "# 저장 (utf-8-sig 인코딩으로 재저장)\n",
        "df.to_csv('employees.csv', index=False, encoding='utf-8-sig')\n",
        "\n",
        "print(\"✅ 고경철 연구부 책임이 추가된 CSV 저장 완료!\")"
      ],
      "metadata": {
        "id": "TdVL8C1dzVqJ"
      },
      "execution_count": null,
      "outputs": []
    },
    {
      "cell_type": "code",
      "source": [
        "import csv\n",
        "from collections import defaultdict\n",
        "\n",
        "# 부서별 사원 명단을 저장할 딕셔너리\n",
        "department_dict = defaultdict(list)\n",
        "\n",
        "# CSV 파일 읽기\n",
        "with open('employees.csv', newline='', encoding='utf-8-sig') as csvfile:\n",
        "    reader = csv.DictReader(csvfile)\n",
        "    for row in reader:\n",
        "        name = row['이름']\n",
        "        dept = row['부서']\n",
        "        department_dict[dept].append(name)\n",
        "\n",
        "# 부서별 명단 출력\n",
        "print(\"📋 부서별 사원 명단:\")\n",
        "for dept, names in department_dict.items():\n",
        "    print(f\"- {dept} ({len(names)}명): {', '.join(names)}\")"
      ],
      "metadata": {
        "id": "hFg_qrQvwvXZ"
      },
      "execution_count": null,
      "outputs": []
    },
    {
      "cell_type": "code",
      "source": [
        "import pandas as pd\n",
        "from collections import defaultdict\n",
        "\n",
        "# CSV 파일 불러오기\n",
        "df = pd.read_csv('employees.csv', encoding='utf-8-sig')\n",
        "\n",
        "# 직급별 사원 명단 저장할 딕셔너리\n",
        "position_dict = defaultdict(list)\n",
        "\n",
        "# 행별 반복하여 분류\n",
        "for _, row in df.iterrows():\n",
        "    position = row['직급']\n",
        "    name = row['이름']\n",
        "    position_dict[position].append(name)\n",
        "\n",
        "# 출력\n",
        "print(\"📋 직급별 사원 명단:\")\n",
        "for position, names in position_dict.items():\n",
        "    print(f\"- {position} ({len(names)}명): {', '.join(names)}\")"
      ],
      "metadata": {
        "id": "X0S13bml1e7q"
      },
      "execution_count": null,
      "outputs": []
    },
    {
      "cell_type": "code",
      "source": [
        "print(department_dict)"
      ],
      "metadata": {
        "id": "JKThx3LhygEL"
      },
      "execution_count": null,
      "outputs": []
    }
  ]
}
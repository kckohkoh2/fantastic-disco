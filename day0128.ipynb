{
  "nbformat": 4,
  "nbformat_minor": 0,
  "metadata": {
    "colab": {
      "private_outputs": true,
      "provenance": [],
      "authorship_tag": "ABX9TyMPn8WPhtYN6rdKg7htewqB",
      "include_colab_link": true
    },
    "kernelspec": {
      "name": "python3",
      "display_name": "Python 3"
    },
    "language_info": {
      "name": "python"
    },
    "accelerator": "GPU",
    "gpuClass": "standard"
  },
  "cells": [
    {
      "cell_type": "markdown",
      "metadata": {
        "id": "view-in-github",
        "colab_type": "text"
      },
      "source": [
        "<a href=\"https://colab.research.google.com/github/kckohkoh2/fantastic-disco/blob/master/day0128.ipynb\" target=\"_parent\"><img src=\"https://colab.research.google.com/assets/colab-badge.svg\" alt=\"Open In Colab\"/></a>"
      ]
    },
    {
      "cell_type": "code",
      "execution_count": null,
      "metadata": {
        "id": "d1Dib91kUIRW"
      },
      "outputs": [],
      "source": [
        "import numpy as np\n",
        "import matplotlib.pyplot as plt\n",
        "import torch\n",
        "import torch.nn as nn\n",
        "from torch.autograd import Variable\n",
        "import torch.nn.functional as F\n",
        "import torchvision\n",
        "import torchvision.transforms as transforms\n",
        "from torch.utils.data import Dataset,DataLoader"
      ]
    },
    {
      "cell_type": "code",
      "source": [
        "device=torch.device(\"cuda:0\" if torch.cuda.is_available() else \"cpu\") "
      ],
      "metadata": {
        "id": "V7nLAQOUUYc2"
      },
      "execution_count": null,
      "outputs": []
    },
    {
      "cell_type": "code",
      "source": [
        "train_dataset=torchvision.datasets.FashionMNIST(\"data\",download=True,\n",
        "                                                transform=transforms.Compose([transforms.ToTensor()]))"
      ],
      "metadata": {
        "id": "MgswV70ViF2x"
      },
      "execution_count": null,
      "outputs": []
    },
    {
      "cell_type": "code",
      "source": [
        "test_dataset=torchvision.datasets.FashionMNIST(\"data\",download=True,\n",
        "                                               train=False,transform=transforms.Compose([transforms.ToTensor()]))"
      ],
      "metadata": {
        "id": "TdHk0a9dp4EX"
      },
      "execution_count": null,
      "outputs": []
    },
    {
      "cell_type": "code",
      "source": [
        "train_loader=torch.utils.data.DataLoader(train_dataset,batch_size=100)\n",
        "test_loader=torch.utils.data.DataLoader(test_dataset,batch_size=100)"
      ],
      "metadata": {
        "id": "bvL8N0mNspNO"
      },
      "execution_count": null,
      "outputs": []
    },
    {
      "cell_type": "code",
      "source": [
        "labels_map = {0 : 'T-Shirt', 1 : 'Trouser', 2 : 'Pullover', 3 : 'Dress', 4 : 'Coat',\n",
        "              5 : 'Sandal', 6 : 'Shirt', 7 : 'Sneaker', 8 : 'Bag', 9 : 'Ankle Boot'}\n",
        "fig = plt.figure(figsize=(8,8)); #------ 출력할 이미지의 가로세로 길이로 단위는 inch\n",
        "columns = 4;\n",
        "rows = 5;\n",
        "for i in range(1, columns*rows +1):\n",
        "    img_xy = np.random.randint(len(train_dataset));\n",
        "    img = train_dataset[img_xy][0][0,:,:]\n",
        "    fig.add_subplot(rows, columns, i)\n",
        "    plt.title(labels_map[train_dataset[img_xy][1]])\n",
        "    plt.axis('off')\n",
        "    plt.imshow(img, cmap='gray')\n",
        "plt.show() \n",
        "print(img_xy)"
      ],
      "metadata": {
        "id": "LTxnB91bta_0"
      },
      "execution_count": null,
      "outputs": []
    },
    {
      "cell_type": "code",
      "source": [
        "for i in range(20):\n",
        "    x=np.random.randint(70000)\n",
        "    print(x)"
      ],
      "metadata": {
        "id": "zBpDensovJGh"
      },
      "execution_count": null,
      "outputs": []
    },
    {
      "cell_type": "code",
      "source": [
        "class FashionDNN(nn.Module):\n",
        "    def __init__(self): #------ ①\n",
        "        super(FashionDNN, self).__init__()\n",
        "        self.fc1 = nn.Linear(in_features=784, out_features=256) #------ ②\n",
        "        self.drop = nn.Dropout(0.25) #------ ③\n",
        "        self.fc2 = nn.Linear(in_features=256, out_features=128)\n",
        "        self.fc3 = nn.Linear(in_features=128, out_features=10)\n",
        "\n",
        "    def forward(self, input_data): #------ ④\n",
        "        out = input_data.view(-1, 784) #------ ⑤\n",
        "        out = F.relu(self.fc1(out)) #------ ⑥\n",
        "        out = self.drop(out)\n",
        "        out = F.relu(self.fc2(out))\n",
        "        out = self.fc3(out)\n",
        "        return out"
      ],
      "metadata": {
        "id": "PCEPmXwUw8HE"
      },
      "execution_count": null,
      "outputs": []
    },
    {
      "cell_type": "code",
      "source": [
        "!ls\n",
        "print(28*28\n",
        "      )"
      ],
      "metadata": {
        "id": "KLLJi2zsplru"
      },
      "execution_count": null,
      "outputs": []
    },
    {
      "cell_type": "code",
      "source": [
        "from google.colab import drive\n",
        "drive.mount('/content/drive')"
      ],
      "metadata": {
        "id": "z2yIJBzfntEW"
      },
      "execution_count": null,
      "outputs": []
    },
    {
      "cell_type": "code",
      "source": [
        "a=0\n",
        "b=2 if a==1 else -1\n",
        "print(b)"
      ],
      "metadata": {
        "id": "Hf613qpOU84_"
      },
      "execution_count": null,
      "outputs": []
    },
    {
      "cell_type": "code",
      "source": [
        "def show_ans(c):\n",
        "    print(c)\n",
        "q='dog'\n",
        "show_ans('y' if q=='cat' else 'n')"
      ],
      "metadata": {
        "id": "6AqbPhauV2Zu"
      },
      "execution_count": null,
      "outputs": []
    },
    {
      "cell_type": "code",
      "source": [
        "a=['a','b','c','d','e']\n",
        "b=[1,2,3,4,5]\n",
        "for c in zip(a,b):\n",
        "    print(c)"
      ],
      "metadata": {
        "id": "RuNCPoNWWhxY"
      },
      "execution_count": null,
      "outputs": []
    },
    {
      "cell_type": "code",
      "source": [
        "c=list(zip(a,b))\n",
        "print(c)"
      ],
      "metadata": {
        "id": "Q1mxxICFYnwv"
      },
      "execution_count": null,
      "outputs": []
    },
    {
      "cell_type": "code",
      "source": [
        "letters,numbers=zip(*c)\n",
        "letters=list(letters)\n",
        "numbers=list(numbers)\n",
        "print(letters)\n",
        "print(numbers)"
      ],
      "metadata": {
        "id": "UPtdY8E_aBa_"
      },
      "execution_count": null,
      "outputs": []
    },
    {
      "cell_type": "code",
      "source": [
        "d=dict(zip(a,b))\n",
        "print(d)"
      ],
      "metadata": {
        "id": "eh0TM9T-Yw-8"
      },
      "execution_count": null,
      "outputs": []
    },
    {
      "cell_type": "code",
      "source": [
        "d=dict(zip(a,b))\n",
        "letters=list(d.keys())\n",
        "numbers=list(d.values())\n",
        "print(letters)\n",
        "print(numbers)"
      ],
      "metadata": {
        "id": "VGY0SlncbhtL"
      },
      "execution_count": null,
      "outputs": []
    },
    {
      "cell_type": "code",
      "source": [
        "a=['a','b','c','d','e']\n",
        "b=[1,2,3,4,5]\n",
        "for i in range(len(a)):\n",
        "    c=(a[i],b[i])\n",
        "    print(c)"
      ],
      "metadata": {
        "id": "xss-isDUXhW9"
      },
      "execution_count": null,
      "outputs": []
    }
  ]
}
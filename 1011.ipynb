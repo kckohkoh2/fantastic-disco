{
  "nbformat": 4,
  "nbformat_minor": 0,
  "metadata": {
    "colab": {
      "private_outputs": true,
      "provenance": [],
      "toc_visible": true,
      "authorship_tag": "ABX9TyNXlYyeOWZpwVl9bRHTy3CS",
      "include_colab_link": true
    },
    "kernelspec": {
      "name": "python3",
      "display_name": "Python 3"
    },
    "language_info": {
      "name": "python"
    }
  },
  "cells": [
    {
      "cell_type": "markdown",
      "metadata": {
        "id": "view-in-github",
        "colab_type": "text"
      },
      "source": [
        "<a href=\"https://colab.research.google.com/github/kckohkoh2/fantastic-disco/blob/master/1011.ipynb\" target=\"_parent\"><img src=\"https://colab.research.google.com/assets/colab-badge.svg\" alt=\"Open In Colab\"/></a>"
      ]
    },
    {
      "cell_type": "code",
      "execution_count": null,
      "metadata": {
        "id": "TDox6Niq2mtQ"
      },
      "outputs": [],
      "source": [
        "import torch\n",
        "x_train=torch.tensor([3]) #1차원 텐서 요소의 값 3\n",
        "W=torch.tensor(2.0) # 0차원 요소의 값 2.0\n",
        "#0차원->점(point), 스칼라(scalar value), 166, 68.8, 'B'\n",
        "#1차원->선(line), 벡터(vector), [166,68.8,'B'], 길이 3,\n",
        "#2차원->면(surface),행렬(matrix),[[1,2,3],[4,5,6]], 열의 길이 3, 행의 길이 2\n",
        "a=[166,68.8,'B'] #파이썬 리스트 표현\n",
        "print(a)\n",
        "b=torch.tensor([166,68.8,64]) #파이토치의 텐서 표현\n",
        "print(b)\n",
        "print(b.dim())\n",
        "print(b.shape)\n",
        "c=torch.tensor([[1,2,3],[4,5,6]])\n",
        "print(c)\n",
        "print(c.dim())\n",
        "print(c.shape)"
      ]
    },
    {
      "cell_type": "code",
      "source": [
        "import torch\n",
        "x_train=torch.tensor(2) #0차원 텐서\n",
        "W=torch.tensor(3.0,requires_grad=True) #0차원 텐서\n",
        "h=x_train*W**2 #W를 제곱한 값과 x_train값을 곱하기\n",
        "g=x_train*W+2*x_train*W**2\n",
        "print(g)\n",
        "g.backward() #앞으로 미분의 대상\n",
        "print(W.grad) #?을 W에 대해 미분값을 출력"
      ],
      "metadata": {
        "id": "tDeKpFmB9ySd"
      },
      "execution_count": null,
      "outputs": []
    },
    {
      "cell_type": "code",
      "source": [
        "x_train=torch.tensor([2.0,3.0]) #row vector\n",
        "W=torch.tensor([[1.0],[1.0]],requires_grad=True) #column vector\n",
        "h=x_train.matmul(W)\n",
        "h.backward()\n",
        "print(W.grad)"
      ],
      "metadata": {
        "id": "Vlh5iUdgDDh_"
      },
      "execution_count": null,
      "outputs": []
    },
    {
      "cell_type": "code",
      "source": [],
      "metadata": {
        "id": "VhWX4fziDDco"
      },
      "execution_count": null,
      "outputs": []
    },
    {
      "cell_type": "code",
      "source": [
        "def f(x,W):\n",
        "    return x*W**2\n",
        "h1=f(W=2.0,x=3)\n",
        "print(h1)"
      ],
      "metadata": {
        "id": "_nbuS3TSA9rk"
      },
      "execution_count": null,
      "outputs": []
    }
  ]
}
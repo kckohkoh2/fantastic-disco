{
  "nbformat": 4,
  "nbformat_minor": 0,
  "metadata": {
    "colab": {
      "private_outputs": true,
      "provenance": [],
      "authorship_tag": "ABX9TyOO7fS6hVvDTz9e+hx3vLxh",
      "include_colab_link": true
    },
    "kernelspec": {
      "name": "python3",
      "display_name": "Python 3"
    },
    "language_info": {
      "name": "python"
    }
  },
  "cells": [
    {
      "cell_type": "markdown",
      "metadata": {
        "id": "view-in-github",
        "colab_type": "text"
      },
      "source": [
        "<a href=\"https://colab.research.google.com/github/kckohkoh2/fantastic-disco/blob/master/day1225.ipynb\" target=\"_parent\"><img src=\"https://colab.research.google.com/assets/colab-badge.svg\" alt=\"Open In Colab\"/></a>"
      ]
    },
    {
      "cell_type": "code",
      "execution_count": null,
      "metadata": {
        "id": "QkgVCXbVRyKi"
      },
      "outputs": [],
      "source": [
        "import numpy as np\n",
        "t = np.array([0., 1., 2., 3., 4., 5., 6.])\n",
        "# 파이썬으로 설명하면 List를 생성해서 np.array로 1차원 array로 변환함.\n",
        "print(t)"
      ]
    },
    {
      "cell_type": "code",
      "source": [
        "t=np.array([[1.,2.,3.],\n",
        "            [4.,5.,6.],\n",
        "            [7.,8.,9.],\n",
        "            [10.,11.,12.]])\n",
        "print(t)"
      ],
      "metadata": {
        "id": "zGsiwIP9bqv6"
      },
      "execution_count": null,
      "outputs": []
    },
    {
      "cell_type": "code",
      "source": [
        "print('Rank  of t: ', t.ndim)\n",
        "print('Shape of t: ', t.shape)"
      ],
      "metadata": {
        "id": "QnDk0NcYcTb9"
      },
      "execution_count": null,
      "outputs": []
    },
    {
      "cell_type": "code",
      "source": [
        "import torch\n",
        "t = torch.FloatTensor([0., 1., 2., 3., 4., 5., 6.])\n",
        "print(t)"
      ],
      "metadata": {
        "id": "U4GJqgktcr_P"
      },
      "execution_count": null,
      "outputs": []
    },
    {
      "cell_type": "code",
      "source": [
        "print(t.dim())  # rank. 즉, 차원\n",
        "print(t.shape)  # shape\n",
        "print(t.size()) # shape"
      ],
      "metadata": {
        "id": "rEVRuUrneN-c"
      },
      "execution_count": null,
      "outputs": []
    },
    {
      "cell_type": "code",
      "source": [
        "print(t[0], t[1], t[-1])  # 인덱스로 접근\n",
        "print(t[2:5], t[4:-1])    # 슬라이싱\n",
        "print(t[:2], t[3:])       # 슬라이싱"
      ],
      "metadata": {
        "id": "eu3gtqU2efz7"
      },
      "execution_count": null,
      "outputs": []
    },
    {
      "cell_type": "code",
      "source": [
        "t = torch.FloatTensor([[1., 2., 3.],\n",
        "                       [4., 5., 6.],\n",
        "                       [7., 8., 9.],\n",
        "                       [10., 11., 12.]\n",
        "                      ])\n",
        "print(t)"
      ],
      "metadata": {
        "id": "IO3HeUSzj6Dg"
      },
      "execution_count": null,
      "outputs": []
    },
    {
      "cell_type": "code",
      "source": [
        "print(t.dim())  # rank. 즉, 차원\n",
        "print(t.size()) # shape"
      ],
      "metadata": {
        "id": "p7IjYX9TkDIs"
      },
      "execution_count": null,
      "outputs": []
    },
    {
      "cell_type": "code",
      "source": [
        "t = torch.FloatTensor([[1,2],\n",
        "                       [3,4],\n",
        "                       [2,5]])\n",
        "print(t)\n",
        "print(t.max(dim=0))"
      ],
      "metadata": {
        "id": "FaFvMwnVl2GY"
      },
      "execution_count": null,
      "outputs": []
    },
    {
      "cell_type": "code",
      "source": [
        "print('Max: ', t.max(dim=0)[0])\n",
        "print('Argmax: ', t.max(dim=0)[1])"
      ],
      "metadata": {
        "id": "2Efx3nxXm2dr"
      },
      "execution_count": null,
      "outputs": []
    }
  ]
}
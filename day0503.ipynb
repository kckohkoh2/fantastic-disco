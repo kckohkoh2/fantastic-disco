{
  "nbformat": 4,
  "nbformat_minor": 0,
  "metadata": {
    "colab": {
      "private_outputs": true,
      "provenance": [],
      "gpuType": "T4",
      "authorship_tag": "ABX9TyPsGZAZsGZ9jJ074ZN51rzK",
      "include_colab_link": true
    },
    "kernelspec": {
      "name": "python3",
      "display_name": "Python 3"
    },
    "language_info": {
      "name": "python"
    },
    "accelerator": "GPU"
  },
  "cells": [
    {
      "cell_type": "markdown",
      "metadata": {
        "id": "view-in-github",
        "colab_type": "text"
      },
      "source": [
        "<a href=\"https://colab.research.google.com/github/kckohkoh2/fantastic-disco/blob/master/day0503.ipynb\" target=\"_parent\"><img src=\"https://colab.research.google.com/assets/colab-badge.svg\" alt=\"Open In Colab\"/></a>"
      ]
    },
    {
      "cell_type": "code",
      "execution_count": null,
      "metadata": {
        "id": "F5zAU2JKpL4D"
      },
      "outputs": [],
      "source": [
        "!pip install git+https://github.com/openai/whisper.git\n",
        "!sudo apt update && sudo apt install ffmpeg -y"
      ]
    },
    {
      "cell_type": "code",
      "source": [
        "from google.colab import files\n",
        "uploaded = files.upload()"
      ],
      "metadata": {
        "id": "FbClfJSEqTk3"
      },
      "execution_count": null,
      "outputs": []
    },
    {
      "cell_type": "code",
      "source": [
        "import whisper\n",
        "\n",
        "# Whisper large 모델 불러오기\n",
        "model = whisper.load_model(\"large\")\n",
        "\n",
        "# 자막 생성 (언어: 중국어, fp16: T4 GPU 최적화)\n",
        "result = model.transcribe(\"LEJU.wav\", language=\"zh\", fp16=True)"
      ],
      "metadata": {
        "id": "0TtJS1lIs8i5"
      },
      "execution_count": null,
      "outputs": []
    },
    {
      "cell_type": "code",
      "source": [
        "def write_srt(segments, filepath):\n",
        "    with open(filepath, \"w\", encoding=\"utf-8\") as f:\n",
        "        for i, seg in enumerate(segments, start=1):\n",
        "            start = seg['start']\n",
        "            end = seg['end']\n",
        "            text = seg['text'].strip()\n",
        "\n",
        "            def format_time(seconds):\n",
        "                h = int(seconds // 3600)\n",
        "                m = int((seconds % 3600) // 60)\n",
        "                s = int(seconds % 60)\n",
        "                ms = int((seconds - int(seconds)) * 1000)\n",
        "                return f\"{h:02}:{m:02}:{s:02},{ms:03}\"\n",
        "\n",
        "            f.write(f\"{i}\\n{format_time(start)} --> {format_time(end)}\\n{text}\\n\\n\")\n",
        "\n",
        "# SRT 파일로 저장\n",
        "write_srt(result[\"segments\"], \"LEJU_Colab.srt\")"
      ],
      "metadata": {
        "id": "K8zMxfmfvX8J"
      },
      "execution_count": null,
      "outputs": []
    },
    {
      "cell_type": "code",
      "source": [
        "from google.colab import files\n",
        "files.download(\"LEJU_Colab.srt\")"
      ],
      "metadata": {
        "id": "v6Zt7kEUvpCy"
      },
      "execution_count": null,
      "outputs": []
    }
  ]
}
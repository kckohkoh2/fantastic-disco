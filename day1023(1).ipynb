{
  "nbformat": 4,
  "nbformat_minor": 0,
  "metadata": {
    "colab": {
      "provenance": [],
      "authorship_tag": "ABX9TyMg34+CcqAmWACnDqFU7WM+",
      "include_colab_link": true
    },
    "kernelspec": {
      "name": "python3",
      "display_name": "Python 3"
    },
    "language_info": {
      "name": "python"
    }
  },
  "cells": [
    {
      "cell_type": "markdown",
      "metadata": {
        "id": "view-in-github",
        "colab_type": "text"
      },
      "source": [
        "<a href=\"https://colab.research.google.com/github/kckohkoh2/fantastic-disco/blob/master/day1023(1).ipynb\" target=\"_parent\"><img src=\"https://colab.research.google.com/assets/colab-badge.svg\" alt=\"Open In Colab\"/></a>"
      ]
    },
    {
      "cell_type": "code",
      "source": [
        "import numpy as np\n",
        "def data_description(data):\n",
        "    cmax=np.max(data,axis=0)\n",
        "    cmin=np.min(data,axis=0)\n",
        "    cmean=np.mean(data,axis=0)\n",
        "    cstd=np.std(data,axis=0)\n",
        "    return cmax,cmin,cmean,cstd\n",
        "data=np.random.randint(0,101,size=(10))\n",
        "cmax,cmin,cmean,cstd=data_description(data)\n",
        "print(f'max={cmax}\\nmin={cmin}\\nmean={cmean:.2f}\\n std={cstd:.2f}')\n"
      ],
      "metadata": {
        "colab": {
          "base_uri": "https://localhost:8080/"
        },
        "id": "IglVTFRVsLY8",
        "outputId": "ae65a733-8734-4e86-d418-43a8d00df833"
      },
      "execution_count": null,
      "outputs": [
        {
          "output_type": "stream",
          "name": "stdout",
          "text": [
            "max=98\n",
            "min=5\n",
            "mean=54.60\n",
            " std=29.06\n"
          ]
        }
      ]
    },
    {
      "cell_type": "code",
      "source": [
        "import torch\n",
        "x1=np.array([1,2,3])\n",
        "t1=torch.FloatTensor(x1)\n",
        "print(t1)"
      ],
      "metadata": {
        "colab": {
          "base_uri": "https://localhost:8080/"
        },
        "id": "-ScQKFj6025T",
        "outputId": "569ae40a-7803-4a59-f80d-b4072b7ec543"
      },
      "execution_count": null,
      "outputs": [
        {
          "output_type": "stream",
          "name": "stdout",
          "text": [
            "tensor([1., 2., 3.])\n"
          ]
        }
      ]
    },
    {
      "cell_type": "code",
      "source": [
        "import numpy as np\n",
        "import torch\n",
        "t3=np.array([[[0,1,2],\n",
        "              [3,4,5]],\n",
        "             [[6,7,8],\n",
        "              [9,10,11]]])\n",
        "t3=torch.FloatTensor(t3)\n",
        "print(t3.shape)"
      ],
      "metadata": {
        "colab": {
          "base_uri": "https://localhost:8080/"
        },
        "id": "nVPlL6cs2jvM",
        "outputId": "37128ebc-e9d4-4037-d043-898f1afcd09d"
      },
      "execution_count": null,
      "outputs": [
        {
          "output_type": "stream",
          "name": "stdout",
          "text": [
            "torch.Size([2, 2, 3])\n"
          ]
        }
      ]
    },
    {
      "cell_type": "code",
      "source": [
        "a=np.array([1,2])\n",
        "b=np.array([[1,2],[3,4]])\n",
        "c=np.array([[[1,2,3],[4,5,6],[7,8,9]],\n",
        "             [[1,2,3],[4,5,6],[7,8,9]],\n",
        "             [[1,2,3],[4,5,6],[7,8,9]]])\n",
        "d=np.array(3)\n",
        "print(a)\n",
        "print(b)\n",
        "print(c)\n",
        "print(d)"
      ],
      "metadata": {
        "colab": {
          "base_uri": "https://localhost:8080/"
        },
        "id": "K3jl4RFI_yXO",
        "outputId": "ebb85839-0295-4038-f547-f13670d3a63f"
      },
      "execution_count": null,
      "outputs": [
        {
          "output_type": "stream",
          "name": "stdout",
          "text": [
            "[1 2]\n",
            "[[1 2]\n",
            " [3 4]]\n",
            "[[[1 2 3]\n",
            "  [4 5 6]\n",
            "  [7 8 9]]\n",
            "\n",
            " [[1 2 3]\n",
            "  [4 5 6]\n",
            "  [7 8 9]]\n",
            "\n",
            " [[1 2 3]\n",
            "  [4 5 6]\n",
            "  [7 8 9]]]\n",
            "3\n"
          ]
        }
      ]
    },
    {
      "cell_type": "code",
      "source": [
        "#같은 형상(shape)일때 덧셈과 곱셈은 원소별로 진행\n",
        "a=np.array([[1,2],[3,4]])\n",
        "b=np.array([[10,10],[10,10]])\n",
        "print(\"행렬 a*b\\n\",a*b)"
      ],
      "metadata": {
        "colab": {
          "base_uri": "https://localhost:8080/"
        },
        "id": "EDfHu1WABg5M",
        "outputId": "82c926bb-3c51-425c-93ae-50177f73bec1"
      },
      "execution_count": null,
      "outputs": [
        {
          "output_type": "stream",
          "name": "stdout",
          "text": [
            "행렬 a*b\n",
            " [[10 20]\n",
            " [30 40]]\n"
          ]
        }
      ]
    },
    {
      "cell_type": "code",
      "source": [
        "a=np.array([[1,2],[3,4]])\n",
        "b=np.array([[2,3,4],[2,3,4]])\n",
        "print(\"행렬 a\\n\",a)\n",
        "print(\"행렬 b\\n\",b)\n",
        "c=np.dot(a,b) #또는 c=np.matmul(a,b)\n",
        "print(\"행렬 c\\n\",c)\n",
        "print(c.shape,c.ndim)"
      ],
      "metadata": {
        "colab": {
          "base_uri": "https://localhost:8080/"
        },
        "id": "PAFBnf_iC2ad",
        "outputId": "a1baeaf7-d2e4-466e-d60b-164ee284d978"
      },
      "execution_count": null,
      "outputs": [
        {
          "output_type": "stream",
          "name": "stdout",
          "text": [
            "행렬 a\n",
            " [[1 2]\n",
            " [3 4]]\n",
            "행렬 b\n",
            " [[2 3 4]\n",
            " [2 3 4]]\n",
            "행렬 c\n",
            " [[ 6  9 12]\n",
            " [14 21 28]]\n",
            "(2, 3) 2\n"
          ]
        }
      ]
    },
    {
      "cell_type": "code",
      "source": [
        "a=([[1,2],[3,4]])\n",
        "b=np.linalg.inv(a)\n",
        "c=np.matmul(a,b)\n",
        "print(b)\n",
        "print(c)"
      ],
      "metadata": {
        "colab": {
          "base_uri": "https://localhost:8080/"
        },
        "id": "NCf_ZgkgDRnx",
        "outputId": "32240126-e931-4335-deab-594a30552c4d"
      },
      "execution_count": null,
      "outputs": [
        {
          "output_type": "stream",
          "name": "stdout",
          "text": [
            "[[-2.   1. ]\n",
            " [ 1.5 -0.5]]\n",
            "[[1.0000000e+00 0.0000000e+00]\n",
            " [8.8817842e-16 1.0000000e+00]]\n"
          ]
        }
      ]
    },
    {
      "cell_type": "code",
      "source": [
        "a=np.array([[1,2],[3,4],[5,6]])\n",
        "print(\"행렬 a\\n\",a)\n",
        "b=a.T\n",
        "print(\"전치행렬 a\\n\",b)\n",
        "print(a.shape,b.shape)"
      ],
      "metadata": {
        "id": "94rABgb9Endh",
        "outputId": "8e197e9d-52e3-40c7-8132-b3559acbb8ff",
        "colab": {
          "base_uri": "https://localhost:8080/"
        }
      },
      "execution_count": null,
      "outputs": [
        {
          "output_type": "stream",
          "name": "stdout",
          "text": [
            "행렬 a\n",
            " [[1 2]\n",
            " [3 4]\n",
            " [5 6]]\n",
            "전치행렬 a\n",
            " [[1 3 5]\n",
            " [2 4 6]]\n",
            "(3, 2) (2, 3)\n"
          ]
        }
      ]
    },
    {
      "cell_type": "code",
      "source": [
        "t2=t3.view([-1,3]) #3차원텐서를 nx3의 2차원텐서로 변환\n",
        "print(t2.shape)\n",
        "print(t2)"
      ],
      "metadata": {
        "colab": {
          "base_uri": "https://localhost:8080/"
        },
        "id": "s4MQq3e93EC1",
        "outputId": "c521a9f7-252e-4b15-c10d-ab46c7bee824"
      },
      "execution_count": null,
      "outputs": [
        {
          "output_type": "stream",
          "name": "stdout",
          "text": [
            "torch.Size([4, 3])\n",
            "tensor([[ 0.,  1.,  2.],\n",
            "        [ 3.,  4.,  5.],\n",
            "        [ 6.,  7.,  8.],\n",
            "        [ 9., 10., 11.]])\n"
          ]
        }
      ]
    },
    {
      "cell_type": "code",
      "source": [
        "from keras.datasets import mnist\n",
        "(train_images,train_labels),(test_images,test_labels)=mnist.load_data()"
      ],
      "metadata": {
        "colab": {
          "base_uri": "https://localhost:8080/"
        },
        "id": "PO05uXOyOWZP",
        "outputId": "968a071b-6eb1-45b8-f166-7616014c626c"
      },
      "execution_count": null,
      "outputs": [
        {
          "output_type": "stream",
          "name": "stdout",
          "text": [
            "Downloading data from https://storage.googleapis.com/tensorflow/tf-keras-datasets/mnist.npz\n",
            "11490434/11490434 [==============================] - 0s 0us/step\n"
          ]
        }
      ]
    },
    {
      "cell_type": "code",
      "source": [
        "print(train_images.ndim)\n",
        "print(train_images.shape)\n",
        "print(train_images.dtype)\n"
      ],
      "metadata": {
        "colab": {
          "base_uri": "https://localhost:8080/"
        },
        "id": "RzjVb7spOySC",
        "outputId": "a5d4dc27-7b26-4dda-c3d6-c1e6dfb55495"
      },
      "execution_count": null,
      "outputs": [
        {
          "output_type": "stream",
          "name": "stdout",
          "text": [
            "3\n",
            "(60000, 28, 28)\n",
            "uint8\n"
          ]
        }
      ]
    },
    {
      "cell_type": "code",
      "source": [
        "import matplotlib.pyplot as plt\n",
        "plt.figure(figsize=(20,4)) \n",
        "temp_image=train_images[11037]\n",
        "for i in range(6):\n",
        "    plt.subplot(1,6,i+1) #그림을 5개로 나누어 그려라 \n",
        "    plt.imshow(train_images[i],cmap=plt.cm.gray) #이미지를 표시해라 \n",
        "plt.show()\n",
        "#딥러닝 기초(1) - 신경망 데이터 표현|작성자 Alpha Koh"
      ],
      "metadata": {
        "colab": {
          "base_uri": "https://localhost:8080/",
          "height": 145
        },
        "id": "tsfVlwSKPRoG",
        "outputId": "d3b357a9-e09f-4317-ad97-28d2d13263a3"
      },
      "execution_count": null,
      "outputs": [
        {
          "output_type": "display_data",
          "data": {
            "text/plain": [
              "<Figure size 1440x288 with 6 Axes>"
            ],
            "image/png": "[encoded data removed]"
          },
          "metadata": {
            "needs_background": "light"
          }
        }
      ]
    }
  ]
}
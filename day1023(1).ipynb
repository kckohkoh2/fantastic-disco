{
  "nbformat": 4,
  "nbformat_minor": 0,
  "metadata": {
    "colab": {
      "provenance": [],
      "authorship_tag": "ABX9TyPFDEQipwCGp0H1BGcrXhR6",
      "include_colab_link": true
    },
    "kernelspec": {
      "name": "python3",
      "display_name": "Python 3"
    },
    "language_info": {
      "name": "python"
    }
  },
  "cells": [
    {
      "cell_type": "markdown",
      "metadata": {
        "id": "view-in-github",
        "colab_type": "text"
      },
      "source": [
        "<a href=\"https://colab.research.google.com/github/kckohkoh2/fantastic-disco/blob/master/day1023(1).ipynb\" target=\"_parent\"><img src=\"https://colab.research.google.com/assets/colab-badge.svg\" alt=\"Open In Colab\"/></a>"
      ]
    },
    {
      "cell_type": "code",
      "source": [
        "import numpy as np\n",
        "def data_description(data):\n",
        "    cmax=np.max(data,axis=0)\n",
        "    cmin=np.min(data,axis=0)\n",
        "    cmean=np.mean(data,axis=0)\n",
        "    cstd=np.std(data,axis=0)\n",
        "    return cmax,cmin,cmean,cstd\n",
        "data=np.random.randint(0,101,size=(10))\n",
        "cmax,cmin,cmean,cstd=data_description(data)\n",
        "print(f'max={cmax}\\nmin={cmin}\\nmean={cmean:.2f}\\n std={cstd:.2f}')\n"
      ],
      "metadata": {
        "colab": {
          "base_uri": "https://localhost:8080/"
        },
        "id": "IglVTFRVsLY8",
        "outputId": "ae65a733-8734-4e86-d418-43a8d00df833"
      },
      "execution_count": null,
      "outputs": [
        {
          "output_type": "stream",
          "name": "stdout",
          "text": [
            "max=98\n",
            "min=5\n",
            "mean=54.60\n",
            " std=29.06\n"
          ]
        }
      ]
    },
    {
      "cell_type": "code",
      "source": [
        "import torch\n",
        "x1=np.array([1,2,3])\n",
        "t1=torch.FloatTensor(x1)\n",
        "print(t1)"
      ],
      "metadata": {
        "colab": {
          "base_uri": "https://localhost:8080/"
        },
        "id": "-ScQKFj6025T",
        "outputId": "569ae40a-7803-4a59-f80d-b4072b7ec543"
      },
      "execution_count": null,
      "outputs": [
        {
          "output_type": "stream",
          "name": "stdout",
          "text": [
            "tensor([1., 2., 3.])\n"
          ]
        }
      ]
    },
    {
      "cell_type": "code",
      "source": [
        "import numpy as np\n",
        "import torch\n",
        "t3=np.array([[[0,1,2],\n",
        "              [3,4,5]],\n",
        "             [[6,7,8],\n",
        "              [9,10,11]]])\n",
        "t3=torch.FloatTensor(t3)\n",
        "print(t3.shape)"
      ],
      "metadata": {
        "colab": {
          "base_uri": "https://localhost:8080/"
        },
        "id": "nVPlL6cs2jvM",
        "outputId": "37128ebc-e9d4-4037-d043-898f1afcd09d"
      },
      "execution_count": null,
      "outputs": [
        {
          "output_type": "stream",
          "name": "stdout",
          "text": [
            "torch.Size([2, 2, 3])\n"
          ]
        }
      ]
    },
    {
      "cell_type": "code",
      "source": [
        "a=np.array([1,2])\n",
        "b=np.array([[1,2],[3,4]])\n",
        "c=np.array([[[1,2,3],[4,5,6],[7,8,9]],\n",
        "             [[1,2,3],[4,5,6],[7,8,9]],\n",
        "             [[1,2,3],[4,5,6],[7,8,9]]])\n",
        "d=np.array(3)\n",
        "print(a)\n",
        "print(b)\n",
        "print(c)\n",
        "print(d)"
      ],
      "metadata": {
        "colab": {
          "base_uri": "https://localhost:8080/"
        },
        "id": "K3jl4RFI_yXO",
        "outputId": "ebb85839-0295-4038-f547-f13670d3a63f"
      },
      "execution_count": null,
      "outputs": [
        {
          "output_type": "stream",
          "name": "stdout",
          "text": [
            "[1 2]\n",
            "[[1 2]\n",
            " [3 4]]\n",
            "[[[1 2 3]\n",
            "  [4 5 6]\n",
            "  [7 8 9]]\n",
            "\n",
            " [[1 2 3]\n",
            "  [4 5 6]\n",
            "  [7 8 9]]\n",
            "\n",
            " [[1 2 3]\n",
            "  [4 5 6]\n",
            "  [7 8 9]]]\n",
            "3\n"
          ]
        }
      ]
    },
    {
      "cell_type": "code",
      "source": [
        "#같은 형상(shape)일때 덧셈과 곱셈은 원소별로 진행\n",
        "a=np.array([[1,2],[3,4]])\n",
        "b=np.array([[10,10],[10,10]])\n",
        "print(\"행렬 a*b\\n\",a*b)"
      ],
      "metadata": {
        "colab": {
          "base_uri": "https://localhost:8080/"
        },
        "id": "EDfHu1WABg5M",
        "outputId": "82c926bb-3c51-425c-93ae-50177f73bec1"
      },
      "execution_count": null,
      "outputs": [
        {
          "output_type": "stream",
          "name": "stdout",
          "text": [
            "행렬 a*b\n",
            " [[10 20]\n",
            " [30 40]]\n"
          ]
        }
      ]
    },
    {
      "cell_type": "code",
      "source": [
        "a=np.array([[1,2],[3,4]])\n",
        "b=np.array([[2,3,4],[2,3,4]])\n",
        "print(\"행렬 a\\n\",a)\n",
        "print(\"행렬 b\\n\",b)\n",
        "c=np.dot(a,b) #또는 c=np.matmul(a,b)\n",
        "print(\"행렬 c\\n\",c)\n",
        "print(c.shape,c.ndim)"
      ],
      "metadata": {
        "colab": {
          "base_uri": "https://localhost:8080/"
        },
        "id": "PAFBnf_iC2ad",
        "outputId": "a1baeaf7-d2e4-466e-d60b-164ee284d978"
      },
      "execution_count": null,
      "outputs": [
        {
          "output_type": "stream",
          "name": "stdout",
          "text": [
            "행렬 a\n",
            " [[1 2]\n",
            " [3 4]]\n",
            "행렬 b\n",
            " [[2 3 4]\n",
            " [2 3 4]]\n",
            "행렬 c\n",
            " [[ 6  9 12]\n",
            " [14 21 28]]\n",
            "(2, 3) 2\n"
          ]
        }
      ]
    },
    {
      "cell_type": "code",
      "source": [
        "a=([[1,2],[3,4]])\n",
        "b=np.linalg.inv(a)\n",
        "c=np.matmul(a,b)\n",
        "print(b)\n",
        "print(c)"
      ],
      "metadata": {
        "colab": {
          "base_uri": "https://localhost:8080/"
        },
        "id": "NCf_ZgkgDRnx",
        "outputId": "32240126-e931-4335-deab-594a30552c4d"
      },
      "execution_count": null,
      "outputs": [
        {
          "output_type": "stream",
          "name": "stdout",
          "text": [
            "[[-2.   1. ]\n",
            " [ 1.5 -0.5]]\n",
            "[[1.0000000e+00 0.0000000e+00]\n",
            " [8.8817842e-16 1.0000000e+00]]\n"
          ]
        }
      ]
    },
    {
      "cell_type": "code",
      "source": [
        "a=np.array([[1,2],[3,4],[5,6]])\n",
        "print(\"행렬 a\\n\",a)\n",
        "b=a.T\n",
        "print(\"전치행렬 a\\n\",b)\n",
        "print(a.shape,b.shape)"
      ],
      "metadata": {
        "id": "94rABgb9Endh",
        "outputId": "8e197e9d-52e3-40c7-8132-b3559acbb8ff",
        "colab": {
          "base_uri": "https://localhost:8080/"
        }
      },
      "execution_count": null,
      "outputs": [
        {
          "output_type": "stream",
          "name": "stdout",
          "text": [
            "행렬 a\n",
            " [[1 2]\n",
            " [3 4]\n",
            " [5 6]]\n",
            "전치행렬 a\n",
            " [[1 3 5]\n",
            " [2 4 6]]\n",
            "(3, 2) (2, 3)\n"
          ]
        }
      ]
    },
    {
      "cell_type": "code",
      "source": [
        "t2=t3.view([-1,3]) #3차원텐서를 nx3의 2차원텐서로 변환\n",
        "print(t2.shape)\n",
        "print(t2)"
      ],
      "metadata": {
        "colab": {
          "base_uri": "https://localhost:8080/"
        },
        "id": "s4MQq3e93EC1",
        "outputId": "c521a9f7-252e-4b15-c10d-ab46c7bee824"
      },
      "execution_count": null,
      "outputs": [
        {
          "output_type": "stream",
          "name": "stdout",
          "text": [
            "torch.Size([4, 3])\n",
            "tensor([[ 0.,  1.,  2.],\n",
            "        [ 3.,  4.,  5.],\n",
            "        [ 6.,  7.,  8.],\n",
            "        [ 9., 10., 11.]])\n"
          ]
        }
      ]
    },
    {
      "cell_type": "code",
      "source": [
        "from keras.datasets import mnist\n",
        "(train_images,train_labels),(test_images,test_labels)=mnist.load_data()"
      ],
      "metadata": {
        "colab": {
          "base_uri": "https://localhost:8080/"
        },
        "id": "PO05uXOyOWZP",
        "outputId": "968a071b-6eb1-45b8-f166-7616014c626c"
      },
      "execution_count": null,
      "outputs": [
        {
          "output_type": "stream",
          "name": "stdout",
          "text": [
            "Downloading data from https://storage.googleapis.com/tensorflow/tf-keras-datasets/mnist.npz\n",
            "11490434/11490434 [==============================] - 0s 0us/step\n"
          ]
        }
      ]
    },
    {
      "cell_type": "code",
      "source": [
        "print(train_images.ndim)\n",
        "print(train_images.shape)\n",
        "print(train_images.dtype)\n"
      ],
      "metadata": {
        "colab": {
          "base_uri": "https://localhost:8080/"
        },
        "id": "RzjVb7spOySC",
        "outputId": "a5d4dc27-7b26-4dda-c3d6-c1e6dfb55495"
      },
      "execution_count": null,
      "outputs": [
        {
          "output_type": "stream",
          "name": "stdout",
          "text": [
            "3\n",
            "(60000, 28, 28)\n",
            "uint8\n"
          ]
        }
      ]
    },
    {
      "cell_type": "code",
      "source": [
        "import matplotlib.pyplot as plt\n",
        "plt.figure(figsize=(20,4)) \n",
        "temp_image=train_images[11037]\n",
        "for i in range(6):\n",
        "    plt.subplot(1,6,i+1) #그림을 5개로 나누어 그려라 \n",
        "    plt.imshow(train_images[i],cmap=plt.cm.gray) #이미지를 표시해라 \n",
        "plt.show()\n",
        "#딥러닝 기초(1) - 신경망 데이터 표현|작성자 Alpha Koh"
      ],
      "metadata": {
        "colab": {
          "base_uri": "https://localhost:8080/",
          "height": 145
        },
        "id": "tsfVlwSKPRoG",
        "outputId": "d3b357a9-e09f-4317-ad97-28d2d13263a3"
      },
      "execution_count": null,
      "outputs": [
        {
          "output_type": "display_data",
          "data": {
            "text/plain": [
              "<Figure size 1440x288 with 6 Axes>"
            ],
            "image/png": "[encoded data removed]"
          },
          "metadata": {
            "needs_background": "light"
          }
        }
      ]
    },
    {
      "cell_type": "code",
      "source": [
        "#AND게이트 논리회로의 퍼셉트론 구현\n",
        "import numpy as np\n",
        "import matplotlib.pyplot as plt\n",
        "plt.style.use('seaborn-whitegrid')\n",
        "def AND(a,b):\n",
        "    input=np.array([a,b])\n",
        "    weights=np.array([0.4,0.4])\n",
        "    bias=-0.6\n",
        "    value=np.sum(input*weights)+bias\n",
        "    if value<=0:\n",
        "        return 0\n",
        "    else:\n",
        "        return 1\n",
        "print(AND(0,0))\n",
        "print(AND(0,1))\n",
        "print(AND(1,0))\n",
        "print(AND(1,1))"
      ],
      "metadata": {
        "id": "5HocZQoPTFMg",
        "colab": {
          "base_uri": "https://localhost:8080/"
        },
        "outputId": "6c759ab4-fc9e-42c1-9b3a-983d4a8589d0"
      },
      "execution_count": 3,
      "outputs": [
        {
          "output_type": "stream",
          "name": "stdout",
          "text": [
            "0\n",
            "0\n",
            "0\n",
            "1\n"
          ]
        }
      ]
    },
    {
      "cell_type": "code",
      "source": [
        "import matplotlib.pyplot as plt\n",
        "x1=np.arange(-2,2,0.01)\n",
        "x2=np.arange(-2,2,0.01)\n",
        "bias=-0.6\n",
        "y=(-0.4*x1-bias)/0.4\n",
        "plt.axvline(x=0)\n",
        "plt.axhline(y=0)\n",
        "plt.plot(x1,y,'r--')\n",
        "plt.scatter(0,0,color='orange',marker='o',s=150)\n",
        "plt.scatter(0,1,color='orange',marker='o',s=150)\n",
        "plt.scatter(1,0,color='orange',marker='o',s=150)\n",
        "plt.scatter(1,1,color='black',marker='^',s=150)\n",
        "plt.xlim(-0.5,1.5)\n",
        "plt.ylim(-0.5,1.5)\n",
        "plt.grid()\n",
        "plt.show()"
      ],
      "metadata": {
        "colab": {
          "base_uri": "https://localhost:8080/",
          "height": 266
        },
        "id": "DMI--DF9X_sQ",
        "outputId": "baa3f27e-2b7a-4050-8c5f-27f7cc846400"
      },
      "execution_count": 4,
      "outputs": [
        {
          "output_type": "display_data",
          "data": {
            "text/plain": [
              "<Figure size 432x288 with 1 Axes>"
            ],
            "image/png": "[encoded data removed]"
          },
          "metadata": {}
        }
      ]
    },
    {
      "cell_type": "code",
      "source": [
        "def OR(a,b):\n",
        "    input=np.array([a,b])\n",
        "    weights=np.array([0.4,0.5])\n",
        "    bias=-0.3\n",
        "    value=np.sum(input*weights)+bias\n",
        "    if value<=0:\n",
        "        return 0\n",
        "    else:\n",
        "        return 1\n",
        "def NAND(a,b):\n",
        "    input=np.array([a,b])\n",
        "    weights=np.array([-0.6,-0.5])\n",
        "    bias=0.7\n",
        "    value=np.sum(input*weights)+bias\n",
        "    if value<=0:\n",
        "        return 0\n",
        "    else:\n",
        "        return 1\n",
        "def XOR(x1,x2):\n",
        "    s1=NAND(x1,x2)\n",
        "    s2=OR(x1,x2)\n",
        "    y=AND(s1,s2)\n",
        "    return y\n",
        "print(XOR(0,0))\n",
        "print(XOR(0,1))\n",
        "print(XOR(1,0))\n",
        "print(XOR(1,1))"
      ],
      "metadata": {
        "colab": {
          "base_uri": "https://localhost:8080/"
        },
        "id": "yI9rGMq8Yq_C",
        "outputId": "27955eca-6c7d-4509-ff8c-d732adfd5fb2"
      },
      "execution_count": 7,
      "outputs": [
        {
          "output_type": "stream",
          "name": "stdout",
          "text": [
            "0\n",
            "1\n",
            "1\n",
            "0\n"
          ]
        }
      ]
    },
    {
      "cell_type": "markdown",
      "source": [
        "활성화 함수 "
      ],
      "metadata": {
        "id": "qE6gwVOibISH"
      }
    },
    {
      "cell_type": "code",
      "source": [
        "import numpy as np\n",
        "def step_function(x):\n",
        "    y=x>0\n",
        "    return y.astype(int)\n",
        "def sigmoid(x):\n",
        "    return 1/(1+np.exp(-x))\n",
        "plt.grid()\n",
        "x=np.arange(-5.0,5.0,0.01)\n",
        "y1=sigmoid(x)\n",
        "y2=step_function(x)\n",
        "plt.plot(x,y1,'r-',x,y2,'b--')\n",
        "plt.show()"
      ],
      "metadata": {
        "colab": {
          "base_uri": "https://localhost:8080/",
          "height": 262
        },
        "id": "coJsUhjgbF7x",
        "outputId": "55f83c60-8190-40cc-b475-092a239f982c"
      },
      "execution_count": 14,
      "outputs": [
        {
          "output_type": "display_data",
          "data": {
            "text/plain": [
              "<Figure size 432x288 with 1 Axes>"
            ],
            "image/png": "[encoded data removed]"
          },
          "metadata": {}
        }
      ]
    },
    {
      "cell_type": "code",
      "source": [
        "import numpy as np\n",
        "def step_function(x):\n",
        "    y=x>0\n",
        "    return y.astype(int)\n",
        "def sigmoid(x):\n",
        "    return 1/(1+np.exp(-10*x))\n",
        "plt.grid()\n",
        "x=np.arange(-5.0,5.0,0.01)\n",
        "y1=sigmoid(x)\n",
        "y2=step_function(x)\n",
        "plt.plot(x,y1,'r-',x,y2,'b--')\n",
        "plt.show()"
      ],
      "metadata": {
        "colab": {
          "base_uri": "https://localhost:8080/",
          "height": 262
        },
        "id": "67VvMYT9dmcB",
        "outputId": "2bed9b71-f19d-44b9-8d72-b73b27f5eaad"
      },
      "execution_count": 16,
      "outputs": [
        {
          "output_type": "display_data",
          "data": {
            "text/plain": [
              "<Figure size 432x288 with 1 Axes>"
            ],
            "image/png": "[encoded data removed]"
          },
          "metadata": {}
        }
      ]
    },
    {
      "cell_type": "markdown",
      "source": [
        "RELU"
      ],
      "metadata": {
        "id": "M4Fq_GHueSiU"
      }
    },
    {
      "cell_type": "code",
      "source": [
        "import numpy as np\n",
        "import matplotlib.pyplot as plt\n",
        "def ReLU(x):\n",
        "    return np.maximum(0,x)\n",
        "x=np.arange(-5.0,5.0,0.01)\n",
        "y2=ReLU(x)\n",
        "plt.plot(x,y2,'r-')\n",
        "plt.grid()\n",
        "plt.show()"
      ],
      "metadata": {
        "colab": {
          "base_uri": "https://localhost:8080/",
          "height": 262
        },
        "id": "fdhXLKEYeWrp",
        "outputId": "f6ee95e3-f45a-42cb-e731-119474857d39"
      },
      "execution_count": 17,
      "outputs": [
        {
          "output_type": "display_data",
          "data": {
            "text/plain": [
              "<Figure size 432x288 with 1 Axes>"
            ],
            "image/png": "[encoded data removed]"
          },
          "metadata": {}
        }
      ]
    },
    {
      "cell_type": "markdown",
      "source": [
        "Softmax"
      ],
      "metadata": {
        "id": "kbEiIQKKgJy3"
      }
    },
    {
      "cell_type": "code",
      "source": [
        "def softmax(a):\n",
        "    exp_a=np.exp(a)\n",
        "    sum_exp_a=np.sum(exp_a)\n",
        "    y=exp_a/sum_exp_a\n",
        "    return y\n",
        "a=np.array([0.3,0.2,4.0,-1.2])\n",
        "print(softmax(a))\n",
        "print(np.sum(softmax(a)))"
      ],
      "metadata": {
        "colab": {
          "base_uri": "https://localhost:8080/"
        },
        "id": "qZdNezvBgIuO",
        "outputId": "5f25866c-6b29-4ea9-acb0-d3fc2fa36475"
      },
      "execution_count": 18,
      "outputs": [
        {
          "output_type": "stream",
          "name": "stdout",
          "text": [
            "[0.02348781 0.02125265 0.9500187  0.00524084]\n",
            "1.0\n"
          ]
        }
      ]
    },
    {
      "cell_type": "code",
      "source": [
        "def softmax2(x):\n",
        "    c = np.max(x)\n",
        "    exp_x = np.exp(x - c)\n",
        "    sum_exp_x = np.sum(exp_x)\n",
        "    return exp_x / sum_exp_x\n",
        "a=np.array([0.1,1000.7,0.5])\n",
        "print(softmax(a))\n",
        "print(np.sum(softmax(a)))\n",
        "print(softmax2(a))\n",
        "print(np.sum(softmax2(a)))"
      ],
      "metadata": {
        "colab": {
          "base_uri": "https://localhost:8080/"
        },
        "id": "FCDDcLA9g5wI",
        "outputId": "97fd25fd-c5af-49c4-b578-8714e68b73d3"
      },
      "execution_count": 19,
      "outputs": [
        {
          "output_type": "stream",
          "name": "stdout",
          "text": [
            "[ 0. nan  0.]\n",
            "nan\n",
            "[0. 1. 0.]\n",
            "1.0\n"
          ]
        },
        {
          "output_type": "stream",
          "name": "stderr",
          "text": [
            "/usr/local/lib/python3.7/dist-packages/ipykernel_launcher.py:2: RuntimeWarning: overflow encountered in exp\n",
            "  \n",
            "/usr/local/lib/python3.7/dist-packages/ipykernel_launcher.py:4: RuntimeWarning: invalid value encountered in true_divide\n",
            "  after removing the cwd from sys.path.\n"
          ]
        }
      ]
    }
  ]
}